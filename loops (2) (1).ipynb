{
 "cells": [
  {
   "cell_type": "markdown",
   "id": "b8922ee0",
   "metadata": {},
   "source": [
    "# Python Loops\n",
    "    Python has two primitive loop commands:\n",
    "\n",
    "    1)while loops\n",
    "    2)for loops\n",
    "    \n",
    "Loops allows the execution of a statement or a group of statement multiple times.\n",
    "In order to enter the loop there are certain conditions defined in the begining.\n",
    "once the condition becomes false the loop stops and the control moves out of the loop\n"
   ]
  },
  {
   "cell_type": "markdown",
   "id": "260c42f6",
   "metadata": {},
   "source": [
    "## The While loop\n",
    "     \n",
    "     \n",
    "With the while loop we can execute a set of statements as long as a condition is true."
   ]
  },
  {
   "cell_type": "code",
   "execution_count": 1,
   "id": "9f4e27e5",
   "metadata": {},
   "outputs": [
    {
     "name": "stdout",
     "output_type": "stream",
     "text": [
      "1\n",
      "2\n",
      "3\n",
      "4\n",
      "5\n",
      "6\n",
      "7\n",
      "8\n",
      "9\n",
      "10\n",
      "11\n",
      "12\n",
      "13\n",
      "14\n",
      "15\n",
      "16\n",
      "17\n",
      "18\n",
      "19\n"
     ]
    }
   ],
   "source": [
    "x = 1\n",
    "\n",
    "while x < 20:\n",
    "    print(x)\n",
    "    x += 1  #increment \n",
    "    "
   ]
  },
  {
   "cell_type": "code",
   "execution_count": 2,
   "id": "fc5a70ca",
   "metadata": {},
   "outputs": [
    {
     "name": "stdout",
     "output_type": "stream",
     "text": [
      "1\n",
      "6\n",
      "11\n",
      "16\n"
     ]
    }
   ],
   "source": [
    "# Print x as long as x is less than x\n",
    "# remember to increment i, or else the loop will continue forever.\n",
    "x = 1\n",
    "\n",
    "while x <= 20:\n",
    "    print(x)\n",
    "    x+=5"
   ]
  },
  {
   "cell_type": "markdown",
   "id": "01c3c7cc",
   "metadata": {},
   "source": [
    "### The Break Statement\n",
    "With the break statement we can stop the loop even if the while condition is true:"
   ]
  },
  {
   "cell_type": "code",
   "execution_count": 10,
   "id": "dd6d1311",
   "metadata": {},
   "outputs": [
    {
     "name": "stdout",
     "output_type": "stream",
     "text": [
      "1\n",
      "2\n",
      "3\n",
      "4\n",
      "5\n",
      "6\n",
      "7\n",
      "8\n",
      "9\n",
      "10\n",
      "11\n",
      "12\n",
      "13\n",
      "14\n"
     ]
    }
   ],
   "source": [
    "x = 0\n",
    "while x < 20:\n",
    "    x+=1\n",
    "    \n",
    "    if x == 15:\n",
    "        break\n",
    "    \n",
    "    print(x)"
   ]
  },
  {
   "cell_type": "code",
   "execution_count": 4,
   "id": "7a736292",
   "metadata": {},
   "outputs": [
    {
     "name": "stdout",
     "output_type": "stream",
     "text": [
      "1\n",
      "2\n",
      "3\n",
      "4\n",
      "5\n",
      "6\n",
      "7\n",
      "8\n",
      "9\n",
      "10\n"
     ]
    }
   ],
   "source": [
    "count = 0\n",
    "while count < 20:\n",
    "    count += 1\n",
    "    if count >10:\n",
    "        break  # Terminates the loop completely\n",
    "\n",
    "    print(count)"
   ]
  },
  {
   "cell_type": "code",
   "execution_count": 2,
   "id": "05e1f7f1",
   "metadata": {},
   "outputs": [
    {
     "name": "stdout",
     "output_type": "stream",
     "text": [
      "number : 1\n",
      "number : 2\n",
      "number : 3\n",
      "number : 4\n",
      "number : 5\n",
      "number : 6\n"
     ]
    }
   ],
   "source": [
    "number = 0\n",
    "while number < 10:\n",
    "    number += 1\n",
    "    if number == 7:\n",
    "        break  # Terminate the loop when the number is 7\n",
    "    \n",
    "    print(\"number :\",number)    "
   ]
  },
  {
   "cell_type": "markdown",
   "id": "ffc1693a",
   "metadata": {},
   "source": [
    "### The Continue Statement\n",
    "With the continue statement we can stop the current iteration, and continue with the next"
   ]
  },
  {
   "cell_type": "code",
   "execution_count": 1,
   "id": "e5c1a4c5",
   "metadata": {},
   "outputs": [
    {
     "name": "stdout",
     "output_type": "stream",
     "text": [
      "1\n",
      "2\n",
      "3\n",
      "4\n",
      "5\n",
      "6\n",
      "7\n",
      "8\n",
      "9\n",
      "10\n"
     ]
    }
   ],
   "source": [
    "x = 0\n",
    "while x < 10:\n",
    "    x+=1\n",
    "   # print(x)\n",
    "    if x ==  5:\n",
    "        continue\n",
    "    print(x)"
   ]
  },
  {
   "cell_type": "code",
   "execution_count": 8,
   "id": "8d23b109",
   "metadata": {},
   "outputs": [
    {
     "name": "stdout",
     "output_type": "stream",
     "text": [
      "count: 3\n",
      "count: 4\n",
      "count: 5\n"
     ]
    }
   ],
   "source": [
    "count = 0\n",
    "\n",
    "while count < 5:\n",
    "    count += 1\n",
    "\n",
    "    if count < 3:\n",
    "        continue  # Skips the rest of the code in this iteration and continues with the next iteration\n",
    "    print('count:',count)"
   ]
  },
  {
   "cell_type": "code",
   "execution_count": 18,
   "id": "247b9040",
   "metadata": {},
   "outputs": [
    {
     "name": "stdout",
     "output_type": "stream",
     "text": [
      "1\n",
      "2\n",
      "3\n",
      "4\n",
      "5\n",
      "6\n",
      "7\n",
      "8\n",
      "9\n",
      "x is no longer less than 10\n"
     ]
    }
   ],
   "source": [
    "# else With the else statement we can run a block of code once when the condition no longer is true:\n",
    "\n",
    "x = 1\n",
    "while x < 10:\n",
    "    print(x)\n",
    "    x += 1\n",
    "    \n",
    "else:\n",
    "    print(\"x is no longer less than 10\")"
   ]
  },
  {
   "cell_type": "code",
   "execution_count": 20,
   "id": "62050c03",
   "metadata": {
    "scrolled": true
   },
   "outputs": [
    {
     "name": "stdout",
     "output_type": "stream",
     "text": [
      "Number: 3\n",
      "Number: 5\n",
      "Number: 7\n",
      "Number: 9\n"
     ]
    }
   ],
   "source": [
    "number = 1\n",
    "while number < 10:\n",
    "    number += 1\n",
    "\n",
    "    if number % 2 == 0:\n",
    "        continue  # Skip even numbers and continue with the next iteration\n",
    "\n",
    "    print(\"Number:\", number)  "
   ]
  },
  {
   "cell_type": "markdown",
   "id": "14bcfdae",
   "metadata": {},
   "source": [
    "## Python For loop\n",
    "A for loop is used for iterating over a sequence (that is either a list, a tuple, a dictionary, a set, or a string).\n",
    "\n",
    "With the for loop we can execute a set of statements, once for each item in a list, tuple, set etc."
   ]
  },
  {
   "cell_type": "code",
   "execution_count": 9,
   "id": "f2d5623e",
   "metadata": {},
   "outputs": [
    {
     "name": "stdout",
     "output_type": "stream",
     "text": [
      "Red\n",
      "Green\n",
      "Blue\n",
      "Orange\n",
      "White\n"
     ]
    }
   ],
   "source": [
    "colors = [\"Red\",\"Green\",\"Blue\",\"Orange\",\"White\"]\n",
    "for i in colors:\n",
    "    print(i)   "
   ]
  },
  {
   "cell_type": "code",
   "execution_count": null,
   "id": "88efd57f",
   "metadata": {},
   "outputs": [],
   "source": [
    "# Break is used to terminate the loop prematurely, regardless of the loop condition."
   ]
  },
  {
   "cell_type": "code",
   "execution_count": 11,
   "id": "b7e6b3bf",
   "metadata": {},
   "outputs": [
    {
     "name": "stdout",
     "output_type": "stream",
     "text": [
      "Red\n",
      "Green\n",
      "Blue\n",
      "Orange\n"
     ]
    }
   ],
   "source": [
    "colors = [\"Red\",\"Green\",\"Blue\",\"Orange\",\"White\"]\n",
    "for x in colors:\n",
    "    print(x)\n",
    "    if x==\"Orange\":\n",
    "        break\n",
    "    #print(x)"
   ]
  },
  {
   "cell_type": "code",
   "execution_count": 16,
   "id": "32552ebf",
   "metadata": {},
   "outputs": [
    {
     "name": "stdout",
     "output_type": "stream",
     "text": [
      "Red\n",
      "Green\n",
      "Blue\n"
     ]
    }
   ],
   "source": [
    "colors = [\"Red\",\"Green\",\"Blue\",\"Orange\",\"White\"]\n",
    "for x in colors:\n",
    "    if x == \"Orange\":\n",
    "        break\n",
    "    print(x)"
   ]
  },
  {
   "cell_type": "code",
   "execution_count": 27,
   "id": "b49885db",
   "metadata": {},
   "outputs": [
    {
     "name": "stdout",
     "output_type": "stream",
     "text": [
      "1\n",
      "2\n",
      "3\n"
     ]
    }
   ],
   "source": [
    "numbers = [1, 2, 3, 4, 5]\n",
    "\n",
    "for num in numbers:\n",
    "    if num == 4:\n",
    "        break\n",
    "    print(num)"
   ]
  },
  {
   "cell_type": "code",
   "execution_count": null,
   "id": "5fb05bd7",
   "metadata": {},
   "outputs": [],
   "source": [
    "# Continue is used to skip the remaining statements in the current iteration and move on to the next iteration of the loop"
   ]
  },
  {
   "cell_type": "code",
   "execution_count": 30,
   "id": "c01ed1be",
   "metadata": {},
   "outputs": [
    {
     "name": "stdout",
     "output_type": "stream",
     "text": [
      "Red\n",
      "Blue\n",
      "orange\n",
      "White\n"
     ]
    }
   ],
   "source": [
    "colors = [\"Red\",\"Green\",\"Blue\",\"orange\",\"White\"]\n",
    "for x in colors:\n",
    "    if x == \"Green\":\n",
    "        continue\n",
    "    print(x) "
   ]
  },
  {
   "cell_type": "code",
   "execution_count": 11,
   "id": "cb4596a9",
   "metadata": {},
   "outputs": [
    {
     "name": "stdout",
     "output_type": "stream",
     "text": [
      "1\n",
      "2\n",
      "4\n",
      "5\n"
     ]
    }
   ],
   "source": [
    "numbers = [1, 2, 3, 4, 5]\n",
    "\n",
    "for num in numbers:\n",
    "    if num == 3:\n",
    "        continue\n",
    "    print(num)"
   ]
  },
  {
   "cell_type": "markdown",
   "id": "3772d308",
   "metadata": {},
   "source": [
    "### find sum of number "
   ]
  },
  {
   "cell_type": "code",
   "execution_count": 12,
   "id": "94538e31",
   "metadata": {},
   "outputs": [
    {
     "name": "stdout",
     "output_type": "stream",
     "text": [
      "55\n"
     ]
    }
   ],
   "source": [
    "sum = 0\n",
    "for i in range(1,11):\n",
    "    sum += i\n",
    "\n",
    "print(sum)"
   ]
  },
  {
   "cell_type": "code",
   "execution_count": 16,
   "id": "fc555b8a",
   "metadata": {},
   "outputs": [
    {
     "ename": "",
     "evalue": "",
     "output_type": "error",
     "traceback": [
      "\u001b[1;31mFailed to start the Kernel. \n",
      "\u001b[1;31mUnable to start Kernel 'base (Python 3.11.7)' due to a timeout waiting for the ports to get used. \n",
      "\u001b[1;31mView Jupyter <a href='command:jupyter.viewOutput'>log</a> for further details."
     ]
    }
   ],
   "source": [
    "a = int(input('enter number :'))\n",
    "sum =  0\n",
    "\n",
    "for i in range(a+1):\n",
    "    sum += i\n",
    "print(sum)"
   ]
  },
  {
   "cell_type": "markdown",
   "id": "cbf72f02",
   "metadata": {},
   "source": [
    "### The Range Function\n",
    "The range() function returns a sequence of numbers, starting from 0 by default, and increments by 1 (by default), and ends at a specified number."
   ]
  },
  {
   "cell_type": "code",
   "execution_count": 24,
   "id": "afcdb757",
   "metadata": {},
   "outputs": [
    {
     "name": "stdout",
     "output_type": "stream",
     "text": [
      "0\n",
      "1\n",
      "2\n",
      "3\n",
      "4\n",
      "5\n",
      "6\n",
      "7\n",
      "8\n",
      "9\n",
      "10\n"
     ]
    }
   ],
   "source": [
    "for x in range(11):\n",
    "    print(x)"
   ]
  },
  {
   "cell_type": "code",
   "execution_count": 25,
   "id": "29dfbe6f",
   "metadata": {},
   "outputs": [
    {
     "name": "stdout",
     "output_type": "stream",
     "text": [
      "3\n",
      "4\n",
      "5\n",
      "6\n",
      "7\n",
      "8\n",
      "9\n",
      "10\n"
     ]
    }
   ],
   "source": [
    "for x in range(3,11):\n",
    "    print(x)"
   ]
  },
  {
   "cell_type": "code",
   "execution_count": 18,
   "id": "1db26db1",
   "metadata": {},
   "outputs": [
    {
     "name": "stdout",
     "output_type": "stream",
     "text": [
      "1\n",
      "3\n",
      "5\n",
      "7\n",
      "9\n"
     ]
    }
   ],
   "source": [
    "for x in range(1,11,2):\n",
    "    print(x)"
   ]
  },
  {
   "cell_type": "code",
   "execution_count": 21,
   "id": "3127b780",
   "metadata": {},
   "outputs": [
    {
     "name": "stdout",
     "output_type": "stream",
     "text": [
      "5\n",
      "10\n",
      "15\n",
      "20\n",
      "25\n",
      "30\n",
      "35\n",
      "40\n",
      "45\n",
      "50\n"
     ]
    }
   ],
   "source": [
    "for i in range(5,51,5):\n",
    "    print(i)"
   ]
  },
  {
   "cell_type": "code",
   "execution_count": 47,
   "id": "be377f75",
   "metadata": {},
   "outputs": [
    {
     "name": "stdout",
     "output_type": "stream",
     "text": [
      "5\n",
      "7\n",
      "9\n",
      "11\n"
     ]
    }
   ],
   "source": [
    "for x in range(5,12,2):\n",
    "    print(x)"
   ]
  },
  {
   "cell_type": "code",
   "execution_count": 36,
   "id": "6cb05266",
   "metadata": {},
   "outputs": [
    {
     "name": "stdout",
     "output_type": "stream",
     "text": [
      "3\n",
      "6\n",
      "9\n",
      "12\n",
      "15\n",
      "18\n",
      "21\n",
      "24\n",
      "27\n",
      "30\n"
     ]
    }
   ],
   "source": [
    "for x in range(3,31,3):\n",
    "    print(x)"
   ]
  },
  {
   "cell_type": "code",
   "execution_count": 22,
   "id": "87a2ec60",
   "metadata": {},
   "outputs": [
    {
     "name": "stdout",
     "output_type": "stream",
     "text": [
      "3 x 1 = 3\n",
      "3 x 2 = 6\n",
      "3 x 3 = 9\n",
      "3 x 4 = 12\n",
      "3 x 5 = 15\n",
      "3 x 6 = 18\n",
      "3 x 7 = 21\n",
      "3 x 8 = 24\n",
      "3 x 9 = 27\n",
      "3 x 10 = 30\n"
     ]
    }
   ],
   "source": [
    "#3 X 1 = 3\n",
    "for i in range(1,11):\n",
    "    print( \"3 x\", i ,\"=\", 3*i )\n",
    "\n",
    "\n",
    "\n"
   ]
  },
  {
   "cell_type": "code",
   "execution_count": 24,
   "id": "ae03f18c",
   "metadata": {},
   "outputs": [
    {
     "name": "stdout",
     "output_type": "stream",
     "text": [
      "15\n",
      "11\n",
      "7\n",
      "3\n"
     ]
    }
   ],
   "source": [
    "for x in range(15,1,-4):\n",
    "    print(x)"
   ]
  },
  {
   "cell_type": "code",
   "execution_count": 52,
   "id": "c68450eb",
   "metadata": {},
   "outputs": [
    {
     "name": "stdout",
     "output_type": "stream",
     "text": [
      "-10\n",
      "-8\n",
      "-6\n",
      "-4\n",
      "-2\n",
      "0\n",
      "2\n",
      "4\n",
      "6\n",
      "8\n",
      "10\n"
     ]
    }
   ],
   "source": [
    "for x in range(-10,11,2):\n",
    "    print(x)"
   ]
  },
  {
   "cell_type": "code",
   "execution_count": 11,
   "id": "6d368a10",
   "metadata": {},
   "outputs": [
    {
     "name": "stdout",
     "output_type": "stream",
     "text": [
      "12\n",
      "9\n",
      "6\n",
      "3\n",
      "0\n",
      "-3\n",
      "-6\n",
      "-9\n",
      "-12\n"
     ]
    }
   ],
   "source": [
    "for x in range(12,-13,-3):\n",
    "    print(x)"
   ]
  },
  {
   "cell_type": "code",
   "execution_count": 39,
   "id": "8e65998b",
   "metadata": {},
   "outputs": [
    {
     "name": "stdout",
     "output_type": "stream",
     "text": [
      "11\n",
      "9\n",
      "7\n",
      "5\n",
      "3\n",
      "Finally finished!\n"
     ]
    }
   ],
   "source": [
    "# Else in for loop\n",
    "# The else keyword in a for loop specifies a block of code to be executed when the loop is finished:\n",
    "for x in range(11,1,-2):\n",
    "    print(x)\n",
    "else:\n",
    "    print(\"Finally finished!\")"
   ]
  },
  {
   "cell_type": "code",
   "execution_count": null,
   "id": "802c3a64",
   "metadata": {},
   "outputs": [],
   "source": []
  },
  {
   "cell_type": "markdown",
   "id": "438c7691",
   "metadata": {},
   "source": [
    "# Print Formatting"
   ]
  },
  {
   "cell_type": "code",
   "execution_count": 13,
   "id": "af1c5e67",
   "metadata": {},
   "outputs": [],
   "source": [
    "#earth is revoles around the sun in 365 days\n",
    "\n",
    "a = 'Earth'\n",
    "b = 365"
   ]
  },
  {
   "cell_type": "code",
   "execution_count": 5,
   "id": "edc47b6f",
   "metadata": {},
   "outputs": [
    {
     "ename": "NameError",
     "evalue": "name 'b' is not defined",
     "output_type": "error",
     "traceback": [
      "\u001b[1;31m---------------------------------------------------------------------------\u001b[0m",
      "\u001b[1;31mNameError\u001b[0m                                 Traceback (most recent call last)",
      "Cell \u001b[1;32mIn[5], line 1\u001b[0m\n\u001b[1;32m----> 1\u001b[0m \u001b[38;5;28mprint\u001b[39m(\u001b[38;5;124m\"\u001b[39m\u001b[38;5;132;01m{}\u001b[39;00m\u001b[38;5;124m is revoles around the sun in \u001b[39m\u001b[38;5;132;01m{}\u001b[39;00m\u001b[38;5;124m days\u001b[39m\u001b[38;5;124m\"\u001b[39m\u001b[38;5;241m.\u001b[39mformat(\u001b[43mb\u001b[49m,a))\n",
      "\u001b[1;31mNameError\u001b[0m: name 'b' is not defined"
     ]
    }
   ],
   "source": [
    "print(\"{} is revoles around the sun in {} days\".format(b,a))"
   ]
  },
  {
   "cell_type": "code",
   "execution_count": 3,
   "id": "03d057cf",
   "metadata": {},
   "outputs": [
    {
     "ename": "NameError",
     "evalue": "name 'b' is not defined",
     "output_type": "error",
     "traceback": [
      "\u001b[1;31m---------------------------------------------------------------------------\u001b[0m",
      "\u001b[1;31mNameError\u001b[0m                                 Traceback (most recent call last)",
      "Cell \u001b[1;32mIn[3], line 1\u001b[0m\n\u001b[1;32m----> 1\u001b[0m \u001b[38;5;28mprint\u001b[39m(\u001b[38;5;124m\"\u001b[39m\u001b[38;5;132;01m{one}\u001b[39;00m\u001b[38;5;124m is revoles around the sun in \u001b[39m\u001b[38;5;132;01m{two}\u001b[39;00m\u001b[38;5;124m days\u001b[39m\u001b[38;5;124m\"\u001b[39m\u001b[38;5;241m.\u001b[39mformat(two\u001b[38;5;241m=\u001b[39m\u001b[43mb\u001b[49m,one\u001b[38;5;241m=\u001b[39ma))\n",
      "\u001b[1;31mNameError\u001b[0m: name 'b' is not defined"
     ]
    }
   ],
   "source": [
    "print(\"{one} is revoles around the sun in {two} days\".format(two=b,one=a))"
   ]
  },
  {
   "cell_type": "code",
   "execution_count": 18,
   "id": "0f701b00",
   "metadata": {},
   "outputs": [
    {
     "name": "stdout",
     "output_type": "stream",
     "text": [
      "Earth is revoles around the sun in 365 days\n"
     ]
    }
   ],
   "source": [
    "print(f\"{a} is revoles around the sun in {b} days\")"
   ]
  },
  {
   "cell_type": "markdown",
   "id": "ba5a990e",
   "metadata": {},
   "source": [
    "range(n+1)"
   ]
  },
  {
   "cell_type": "markdown",
   "id": "6c63a20c",
   "metadata": {},
   "source": [
    "# Great!"
   ]
  }
 ],
 "metadata": {
  "kernelspec": {
   "display_name": "Python 3 (ipykernel)",
   "language": "python",
   "name": "python3"
  },
  "language_info": {
   "codemirror_mode": {
    "name": "ipython",
    "version": 3
   },
   "file_extension": ".py",
   "mimetype": "text/x-python",
   "name": "python",
   "nbconvert_exporter": "python",
   "pygments_lexer": "ipython3",
   "version": "3.11.7"
  }
 },
 "nbformat": 4,
 "nbformat_minor": 5
}
