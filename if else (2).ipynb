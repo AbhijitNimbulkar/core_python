{
 "cells": [
  {
   "cell_type": "markdown",
   "id": "1669f841",
   "metadata": {},
   "source": [
    "# if else"
   ]
  },
  {
   "cell_type": "markdown",
   "id": "72607005",
   "metadata": {},
   "source": [
    "## Python conditions and statements\n",
    "    Python supports the usual conditional statements from mathematics:\n",
    "    \n",
    "    Equals: a == b\n",
    "    Not Equals: a != b\n",
    "    Less than: a < b\n",
    "    Less than or equal to: a <= b\n",
    "    Greater than: a > b\n",
    "    Greater than or equal to: a >= b"
   ]
  },
  {
   "cell_type": "code",
   "execution_count": 2,
   "id": "62eb0fae",
   "metadata": {},
   "outputs": [],
   "source": [
    "if 10 < 2:\n",
    "    print(\"false\")\n"
   ]
  },
  {
   "cell_type": "code",
   "execution_count": 3,
   "id": "7a07dbe0",
   "metadata": {},
   "outputs": [
    {
     "name": "stdout",
     "output_type": "stream",
     "text": [
      "True!\n"
     ]
    }
   ],
   "source": [
    "if 1 < 2:\n",
    "    print('True!')"
   ]
  },
  {
   "cell_type": "markdown",
   "id": "008d636f",
   "metadata": {},
   "source": [
    "if (condition):\n",
    "    # Executes this block if\n",
    "    # condition is true\n",
    "else:\n",
    "    # Executes this block if\n",
    "    # condition is false"
   ]
  },
  {
   "cell_type": "code",
   "execution_count": 4,
   "id": "ccf42239",
   "metadata": {},
   "outputs": [
    {
     "name": "stdout",
     "output_type": "stream",
     "text": [
      "first\n"
     ]
    }
   ],
   "source": [
    "# The else keyword catches anything which isn't caught by the preceding conditions.\n",
    "if 10 > 2:\n",
    "    print('first')\n",
    "else:\n",
    "    print('last')"
   ]
  },
  {
   "cell_type": "code",
   "execution_count": 5,
   "id": "b186d0f2",
   "metadata": {},
   "outputs": [
    {
     "name": "stdout",
     "output_type": "stream",
     "text": [
      "last\n"
     ]
    }
   ],
   "source": [
    "if 1 > 2:\n",
    "    print('first')\n",
    "else:\n",
    "    print('last')"
   ]
  },
  {
   "cell_type": "code",
   "execution_count": 6,
   "id": "669b9542",
   "metadata": {},
   "outputs": [
    {
     "name": "stdout",
     "output_type": "stream",
     "text": [
      "b is greater than a\n"
     ]
    }
   ],
   "source": [
    "a = 100\n",
    "b = 200\n",
    "if b < a:\n",
    "    print(\"b is less than a\")\n",
    "else:\n",
    "    print(\"b is greater than a\")\n"
   ]
  },
  {
   "cell_type": "code",
   "execution_count": 7,
   "id": "f9602da8",
   "metadata": {},
   "outputs": [
    {
     "name": "stdout",
     "output_type": "stream",
     "text": [
      "b is less than a \n"
     ]
    }
   ],
   "source": [
    "#The elif keyword is Python's way of saying \"if the previous conditions were not true, then try this condition\".\n",
    "a = 33\n",
    "b = 23\n",
    "if b > a:\n",
    "    print(f\"{b} is greater than {a}\")\n",
    "elif b < a:\n",
    "    print(\"b is less than a \")\n",
    "else: \n",
    "    print('both are same')"
   ]
  },
  {
   "cell_type": "code",
   "execution_count": 8,
   "id": "b68dc234",
   "metadata": {},
   "outputs": [
    {
     "ename": "ValueError",
     "evalue": "invalid literal for int() with base 10: 'sonal'",
     "output_type": "error",
     "traceback": [
      "\u001b[1;31m---------------------------------------------------------------------------\u001b[0m",
      "\u001b[1;31mValueError\u001b[0m                                Traceback (most recent call last)",
      "Cell \u001b[1;32mIn[8], line 1\u001b[0m\n\u001b[1;32m----> 1\u001b[0m a \u001b[38;5;241m=\u001b[39m \u001b[38;5;28mint\u001b[39m(\u001b[38;5;28minput\u001b[39m (\u001b[38;5;124m\"\u001b[39m\u001b[38;5;124menter the number : \u001b[39m\u001b[38;5;124m\"\u001b[39m))\n\u001b[0;32m      2\u001b[0m b \u001b[38;5;241m=\u001b[39m \u001b[38;5;28mint\u001b[39m(\u001b[38;5;28minput\u001b[39m(\u001b[38;5;124m\"\u001b[39m\u001b[38;5;124menter another number: \u001b[39m\u001b[38;5;124m\"\u001b[39m))\n\u001b[0;32m      4\u001b[0m \u001b[38;5;28;01mif\u001b[39;00m a \u001b[38;5;241m>\u001b[39m b:\n",
      "\u001b[1;31mValueError\u001b[0m: invalid literal for int() with base 10: 'sonal'"
     ]
    }
   ],
   "source": [
    "a = int(input (\"enter the number : \"))\n",
    "b = int(input(\"enter another number: \"))\n",
    "\n",
    "if a > b:\n",
    "    print(\"a greater than b\")\n",
    "elif a == b:\n",
    "    print(\"a and b are same\")\n",
    "else:\n",
    "    print(\"a is less than b\")"
   ]
  },
  {
   "cell_type": "code",
   "execution_count": null,
   "id": "39925414",
   "metadata": {},
   "outputs": [],
   "source": [
    "name=input(\"enter a name\")\n",
    "print(name)"
   ]
  },
  {
   "cell_type": "code",
   "execution_count": 14,
   "id": "d3d2e4f7",
   "metadata": {},
   "outputs": [
    {
     "name": "stdout",
     "output_type": "stream",
     "text": [
      "middle\n"
     ]
    }
   ],
   "source": [
    "if 1 == 2:\n",
    "    print('first')\n",
    "elif 3 == 3:\n",
    "    print('middle')\n",
    "else:\n",
    "    print('Last')"
   ]
  },
  {
   "cell_type": "code",
   "execution_count": 15,
   "id": "dd9911b9",
   "metadata": {},
   "outputs": [
    {
     "name": "stdout",
     "output_type": "stream",
     "text": [
      "a is greater than b\n"
     ]
    }
   ],
   "source": [
    "a = 200\n",
    "b = 33\n",
    "if b > a:\n",
    "    print(\"b is greater than a\")\n",
    "elif a == b:\n",
    "    print(\"a and b are equal\")\n",
    "else:\n",
    "    print(\"a is greater than b\")"
   ]
  },
  {
   "cell_type": "code",
   "execution_count": 17,
   "id": "7e72d37f",
   "metadata": {},
   "outputs": [
    {
     "name": "stdout",
     "output_type": "stream",
     "text": [
      "x is non-positive\n",
      "80\n"
     ]
    }
   ],
   "source": [
    "x = -20\n",
    "\n",
    "if x > 0:\n",
    "    print(\"x is positive\")\n",
    "    print(\"This is statement 2\")\n",
    "    multi= x*10\n",
    "    print(multi)\n",
    "    \n",
    "else:\n",
    "    print(\"x is non-positive\")\n",
    "    addition = x+100\n",
    "    print(addition)\n"
   ]
  },
  {
   "cell_type": "markdown",
   "id": "d8411bdc",
   "metadata": {},
   "source": [
    "## nested if\n",
    "  You can have if statements inside if statements, this is called nested if statements."
   ]
  },
  {
   "cell_type": "code",
   "execution_count": 20,
   "id": "91bf89c9",
   "metadata": {},
   "outputs": [
    {
     "name": "stdout",
     "output_type": "stream",
     "text": [
      "enter any number: 4\n",
      "4 is less than 10\n"
     ]
    }
   ],
   "source": [
    "x = int(input('enter any number: '))\n",
    "\n",
    "if x > 10:\n",
    "    print(f\"{x} is Above ten\")\n",
    "    if x > 20:\n",
    "        print(\"and also above 20!\")\n",
    "    else:\n",
    "        print(\"but not above 20.\")\n",
    "else:\n",
    "    print(f\"{x} is less than 10\")"
   ]
  },
  {
   "cell_type": "code",
   "execution_count": 21,
   "id": "9a298048",
   "metadata": {},
   "outputs": [
    {
     "name": "stdout",
     "output_type": "stream",
     "text": [
      "10 is positive\n",
      "25 is positive\n",
      "-5 is negative\n",
      "0 is zero\n",
      "15 is positive\n",
      "-8 is negative\n"
     ]
    }
   ],
   "source": [
    "# Categorizing number\n",
    "numbers = [10, 25, -5, 0, 15, -8]\n",
    "\n",
    "for num in numbers:\n",
    "    if num > 0:\n",
    "        print(num, \"is positive\")\n",
    "    elif num < 0:\n",
    "        print(num, \"is negative\")\n",
    "    else:\n",
    "        print(num, \"is zero\")"
   ]
  },
  {
   "cell_type": "code",
   "execution_count": 22,
   "id": "e477ecd3",
   "metadata": {},
   "outputs": [
    {
     "name": "stdout",
     "output_type": "stream",
     "text": [
      "Even numbers: [2, 4, 10, 8, 6]\n",
      "Odd numbers: [7, 1, 9, 5, 3]\n"
     ]
    }
   ],
   "source": [
    "# Sorting numbers into buckets\n",
    "numbers = [2, 7, 4, 10, 1, 9, 5, 3, 8, 6]\n",
    "\n",
    "even_nums = []\n",
    "odd_nums = []\n",
    "\n",
    "for num in numbers:\n",
    "    if num % 2 == 0:\n",
    "        even_nums.append(num)\n",
    "    else:\n",
    "        odd_nums.append(num)\n",
    "\n",
    "print(\"Even numbers:\", even_nums)\n",
    "print(\"Odd numbers:\", odd_nums)"
   ]
  },
  {
   "cell_type": "code",
   "execution_count": 23,
   "id": "ca44a3e8",
   "metadata": {},
   "outputs": [
    {
     "data": {
      "text/plain": [
       "5.0"
      ]
     },
     "execution_count": 23,
     "metadata": {},
     "output_type": "execute_result"
    }
   ],
   "source": [
    "10 / 2"
   ]
  },
  {
   "cell_type": "code",
   "execution_count": 24,
   "id": "0bc8c542",
   "metadata": {},
   "outputs": [
    {
     "data": {
      "text/plain": [
       "0"
      ]
     },
     "execution_count": 24,
     "metadata": {},
     "output_type": "execute_result"
    }
   ],
   "source": [
    "10 % 2 "
   ]
  },
  {
   "cell_type": "code",
   "execution_count": 27,
   "id": "c3b4f43e",
   "metadata": {},
   "outputs": [
    {
     "name": "stdout",
     "output_type": "stream",
     "text": [
      "2 is a prime number\n",
      "3 is a prime number\n",
      "4 is not a prime number\n",
      "5 is a prime number\n",
      "6 is not a prime number\n",
      "7 is a prime number\n",
      "8 is not a prime number\n",
      "9 is not a prime number\n",
      "10 is not a prime number\n",
      "72 is not a prime number\n"
     ]
    }
   ],
   "source": [
    "# Checking for Prime Numbers\n",
    "numbers = [2, 3, 4, 5, 6, 7, 8, 9, 10,72]\n",
    "\n",
    "for num in numbers:\n",
    "    if num > 1:\n",
    "        for i in range(2, num):\n",
    "            if (num % i) == 0:\n",
    "                print(num, \"is not a prime number\")\n",
    "                break\n",
    "        else:\n",
    "            print(num, \"is a prime number\")\n",
    "    else:\n",
    "        print(num, \"is not a prime number\")"
   ]
  },
  {
   "cell_type": "code",
   "execution_count": null,
   "id": "001f1d44",
   "metadata": {},
   "outputs": [],
   "source": [
    "for i in range(2,4):\n",
    "    print(i)"
   ]
  },
  {
   "cell_type": "code",
   "execution_count": 26,
   "id": "31564ffa",
   "metadata": {
    "scrolled": false
   },
   "outputs": [
    {
     "name": "stdout",
     "output_type": "stream",
     "text": [
      "7  %  2 = 1\n",
      "7  %  3 = 1\n",
      "7  %  4 = 3\n",
      "7  %  5 = 2\n",
      "7  %  6 = 1\n"
     ]
    }
   ],
   "source": [
    "for i in range (2,7):\n",
    "    print(7 ,\" % \",i,\"=\", 7 % i)\n",
    "    "
   ]
  },
  {
   "cell_type": "code",
   "execution_count": null,
   "id": "073ee3b0",
   "metadata": {},
   "outputs": [],
   "source": [
    "for i in range(5):\n",
    "    print(i)"
   ]
  },
  {
   "cell_type": "code",
   "execution_count": 28,
   "id": "4b23082c",
   "metadata": {},
   "outputs": [
    {
     "name": "stdout",
     "output_type": "stream",
     "text": [
      "0 is zero\n"
     ]
    }
   ],
   "source": [
    "#nested if else\n",
    "num = 0\n",
    "\n",
    "if num > 0:\n",
    "    if num % 2 == 0:\n",
    "        print(num, \"is a positive even number\")\n",
    "    else:\n",
    "        print(num, \"is a positive odd number\")\n",
    "elif num < 0:\n",
    "    if num % 2 == 0:\n",
    "        print(num,\"is negative even number\")\n",
    "    else:\n",
    "        print(num,\"is negative odd number\")\n",
    "    #print(num, \"is a negative number\")\n",
    "else:\n",
    "    print(num, \"is zero\")"
   ]
  },
  {
   "cell_type": "code",
   "execution_count": null,
   "id": "9738c5be",
   "metadata": {},
   "outputs": [],
   "source": [
    "score = int(input('enter your marks: '))\n",
    "\n",
    "\n",
    "if score >= 90:\n",
    "    if score >= 95:\n",
    "        grade = \"A+\"\n",
    "    else:\n",
    "        grade = \"A\"\n",
    "        \n",
    "elif score >= 80:\n",
    "    if score >= 85:\n",
    "        grade = \"B+\"\n",
    "    else:\n",
    "        grade = \"B\"\n",
    "        \n",
    "elif score >= 70:\n",
    "    if score >= 75:\n",
    "        grade = \"C+\"\n",
    "    else:\n",
    "        grade = \"C\"\n",
    "else:\n",
    "    grade = \"D\"\n",
    "\n",
    "print(\"Your grade:\", grade)"
   ]
  },
  {
   "cell_type": "markdown",
   "id": "65740010",
   "metadata": {},
   "source": [
    "# Some Probles To solve "
   ]
  },
  {
   "cell_type": "markdown",
   "id": "2d7b2486",
   "metadata": {},
   "source": [
    "<b>create code for login id and password where take a users input if the id was correct then take input for password and if password is correct then show you are logged in sucessefuly"
   ]
  },
  {
   "cell_type": "code",
   "execution_count": null,
   "id": "b6d987a3",
   "metadata": {},
   "outputs": [],
   "source": []
  },
  {
   "cell_type": "markdown",
   "id": "8fbdbd09",
   "metadata": {},
   "source": [
    "<b>A company decided to give bonus of 5% to employee if his/her year of service is more than 5 years. Ask user for their salary and year of service and print the net bonus amount."
   ]
  },
  {
   "cell_type": "code",
   "execution_count": null,
   "id": "d18486b8",
   "metadata": {},
   "outputs": [],
   "source": []
  },
  {
   "cell_type": "markdown",
   "id": "e31c2988",
   "metadata": {},
   "source": [
    "<b>Write a program to allow student to sit if he/she has medical cause. Take input from user she/he has medical cause or not ( 'Y' or 'N' )and also take input from user for attendance (int).if she/he has medical cause 'Y' then whatever his/her attendance it will give message as \"You are allowed\" and if 'N' then his/her attendance should be greater than 75 then it will give message \"Allowed\" otherwise \"Not Allowed\"."
   ]
  },
  {
   "cell_type": "code",
   "execution_count": null,
   "id": "d81e9dda",
   "metadata": {},
   "outputs": [],
   "source": []
  }
 ],
 "metadata": {
  "kernelspec": {
   "display_name": "base",
   "language": "python",
   "name": "python3"
  },
  "language_info": {
   "codemirror_mode": {
    "name": "ipython",
    "version": 3
   },
   "file_extension": ".py",
   "mimetype": "text/x-python",
   "name": "python",
   "nbconvert_exporter": "python",
   "pygments_lexer": "ipython3",
   "version": "3.11.7"
  }
 },
 "nbformat": 4,
 "nbformat_minor": 5
}
