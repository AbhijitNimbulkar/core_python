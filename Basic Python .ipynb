{
 "cells": [
  {
   "cell_type": "markdown",
   "id": "3e3ac3df",
   "metadata": {},
   "source": [
    " # Data Types:\n",
    "\n",
    "\n",
    "\n",
    "-  In computer programming language data types are  used to define what kind of data a particular variable or object can hold. \n",
    "- Data types specify the storage format, constraints, and operations that can be performed on the data."
   ]
  },
  {
   "cell_type": "markdown",
   "id": "a8b146e2",
   "metadata": {},
   "source": [
    "\n",
    "\n",
    "- Some built-in Python data types are:\n",
    "- Numeric data types: int, float, complex.\n",
    "- String data types: str.\n",
    "- Sequence types: list, tuple.\n",
    "- Mapping data type: dict.\n",
    "- Boolean type: bool.\n"
   ]
  },
  {
   "cell_type": "markdown",
   "id": "ca80aabe",
   "metadata": {},
   "source": [
    "In Python, a variable is a named storage location that can hold data, such as numbers, strings, lists, or other objects. Variables are used to store and manipulate data in your programs. Here's how you declare and use variables in Python:"
   ]
  },
  {
   "cell_type": "markdown",
   "id": "ef1ed191",
   "metadata": {},
   "source": [
    "Variable Names:\n",
    "Variable names in Python can include letters, numbers, and underscores but must follow some rules:\n",
    "\n",
    "- The name must start with a letter (a-z, A-Z) or an underscore (_).\n",
    "- The name can contain letters, numbers, and underscores.\n",
    "- Variable names are case-sensitive (e.g., myVariable and myvariable are different variables).\n",
    "- Avoid using Python's reserved keywords (e.g., if, while, for, etc.) as variable names."
   ]
  },
  {
   "cell_type": "code",
   "execution_count": 33,
   "id": "eec43db4",
   "metadata": {},
   "outputs": [
    {
     "name": "stdout",
     "output_type": "stream",
     "text": [
      "12.5\n"
     ]
    }
   ],
   "source": [
    "X = 12.5\n",
    "\n",
    "print(X)\n",
    "\n"
   ]
  },
  {
   "cell_type": "code",
   "execution_count": 34,
   "id": "2f72d480",
   "metadata": {},
   "outputs": [
    {
     "name": "stdout",
     "output_type": "stream",
     "text": [
      "<class 'str'>\n"
     ]
    }
   ],
   "source": [
    "a = str(X)\n",
    "\n",
    "print(type(a))"
   ]
  },
  {
   "cell_type": "code",
   "execution_count": 35,
   "id": "392192a7",
   "metadata": {},
   "outputs": [
    {
     "data": {
      "text/plain": [
       "122324"
      ]
     },
     "execution_count": 35,
     "metadata": {},
     "output_type": "execute_result"
    }
   ],
   "source": [
    "s2 = 122324\n",
    "s2"
   ]
  },
  {
   "cell_type": "markdown",
   "id": "2b21e296",
   "metadata": {},
   "source": [
    "## Python Numbers\n",
    "    \n",
    "    There are three numeric types in Python:\n",
    "    1)int\n",
    "    2)float\n",
    "    3)complex\n"
   ]
  },
  {
   "cell_type": "code",
   "execution_count": 36,
   "id": "2cd4cdb9",
   "metadata": {},
   "outputs": [],
   "source": [
    "x = 1   # int\n",
    "y = 2.8  # float\n",
    "z = 1j   # complex\n",
    "a = 'python'  #String"
   ]
  },
  {
   "cell_type": "code",
   "execution_count": 37,
   "id": "455859d6",
   "metadata": {},
   "outputs": [
    {
     "data": {
      "text/plain": [
       "float"
      ]
     },
     "execution_count": 37,
     "metadata": {},
     "output_type": "execute_result"
    }
   ],
   "source": [
    "type(y)\n",
    "\n"
   ]
  },
  {
   "cell_type": "code",
   "execution_count": 38,
   "id": "7c032b02",
   "metadata": {},
   "outputs": [
    {
     "name": "stdout",
     "output_type": "stream",
     "text": [
      "<class 'str'>\n"
     ]
    },
    {
     "data": {
      "text/plain": [
       "int"
      ]
     },
     "execution_count": 38,
     "metadata": {},
     "output_type": "execute_result"
    }
   ],
   "source": [
    "print(type(a))\n",
    "type(x)"
   ]
  },
  {
   "cell_type": "code",
   "execution_count": 39,
   "id": "121ab0b3",
   "metadata": {},
   "outputs": [
    {
     "data": {
      "text/plain": [
       "int"
      ]
     },
     "execution_count": 39,
     "metadata": {},
     "output_type": "execute_result"
    }
   ],
   "source": [
    "#print(type(y))\n",
    "type(x)"
   ]
  },
  {
   "cell_type": "code",
   "execution_count": 40,
   "id": "0d45b3e8",
   "metadata": {},
   "outputs": [
    {
     "name": "stdout",
     "output_type": "stream",
     "text": [
      "<class 'int'>\n",
      "<class 'float'>\n",
      "<class 'complex'>\n"
     ]
    },
    {
     "data": {
      "text/plain": [
       "str"
      ]
     },
     "execution_count": 40,
     "metadata": {},
     "output_type": "execute_result"
    }
   ],
   "source": [
    "print(type(x))\n",
    "print(type(y))\n",
    "print(type(z))\n",
    "type(a)"
   ]
  },
  {
   "cell_type": "markdown",
   "id": "b39fc9d1",
   "metadata": {},
   "source": [
    "### Typecasting\n"
   ]
  },
  {
   "cell_type": "code",
   "execution_count": 41,
   "id": "dcd35e9f",
   "metadata": {},
   "outputs": [],
   "source": [
    "x = 12763643    #int\n",
    "y = 2.8  # float\n",
    "z = 1j   # complex"
   ]
  },
  {
   "cell_type": "code",
   "execution_count": 42,
   "id": "b3fe642a",
   "metadata": {},
   "outputs": [
    {
     "data": {
      "text/plain": [
       "12763643.0"
      ]
     },
     "execution_count": 42,
     "metadata": {},
     "output_type": "execute_result"
    }
   ],
   "source": [
    "\n",
    "#convert from int to float:\n",
    "a = float(x)\n",
    "a"
   ]
  },
  {
   "cell_type": "code",
   "execution_count": 43,
   "id": "1d5dbd0d",
   "metadata": {},
   "outputs": [
    {
     "data": {
      "text/plain": [
       "2"
      ]
     },
     "execution_count": 43,
     "metadata": {},
     "output_type": "execute_result"
    }
   ],
   "source": [
    "#convert from float to int:\n",
    "b = int(y)\n",
    "b"
   ]
  },
  {
   "cell_type": "code",
   "execution_count": 44,
   "id": "b967e0c6",
   "metadata": {},
   "outputs": [
    {
     "name": "stdout",
     "output_type": "stream",
     "text": [
      "(12763643+0j) (2.8+0j)\n"
     ]
    }
   ],
   "source": [
    " #convert from int and float to complex:\n",
    "c = complex(x)\n",
    "d = complex(y)\n",
    "print(c,d)"
   ]
  },
  {
   "cell_type": "code",
   "execution_count": 45,
   "id": "4dcc9197",
   "metadata": {},
   "outputs": [
    {
     "name": "stdout",
     "output_type": "stream",
     "text": [
      "12763643.0\n",
      "2\n",
      "(12763643+0j)\n",
      "(2.8+0j)\n"
     ]
    }
   ],
   "source": [
    "print(a)\n",
    "print(b)\n",
    "print(c)\n",
    "print(d)"
   ]
  },
  {
   "cell_type": "code",
   "execution_count": 46,
   "id": "1cfc4f0b",
   "metadata": {},
   "outputs": [
    {
     "name": "stdout",
     "output_type": "stream",
     "text": [
      "<class 'float'>\n",
      "<class 'int'>\n",
      "<class 'complex'>\n",
      "<class 'complex'>\n"
     ]
    }
   ],
   "source": [
    "\n",
    "print(type(a))\n",
    "print(type(b))\n",
    "print(type(c))\n",
    "print(type(d))"
   ]
  },
  {
   "cell_type": "code",
   "execution_count": 4,
   "id": "adad511b",
   "metadata": {},
   "outputs": [],
   "source": [
    "#convert complex to int \n",
    "z=5\n",
    "\n",
    "p = int(z)\n",
    "p1 = float(z)\n",
    "\n"
   ]
  },
  {
   "cell_type": "markdown",
   "id": "a09ead41",
   "metadata": {},
   "source": [
    "Complex Number Cannot converted into int and float"
   ]
  },
  {
   "cell_type": "code",
   "execution_count": 5,
   "id": "b4401885",
   "metadata": {},
   "outputs": [
    {
     "ename": "TypeError",
     "evalue": "float() argument must be a string or a real number, not 'complex'",
     "output_type": "error",
     "traceback": [
      "\u001b[1;31m---------------------------------------------------------------------------\u001b[0m",
      "\u001b[1;31mTypeError\u001b[0m                                 Traceback (most recent call last)",
      "Cell \u001b[1;32mIn[5], line 2\u001b[0m\n\u001b[0;32m      1\u001b[0m a\u001b[38;5;241m=\u001b[39m\u001b[38;5;241m102\u001b[39m\u001b[38;5;241m+\u001b[39m\u001b[38;5;241m0\u001b[39mj\n\u001b[1;32m----> 2\u001b[0m a1 \u001b[38;5;241m=\u001b[39m \u001b[38;5;28mfloat\u001b[39m(a)\n\u001b[0;32m      3\u001b[0m a1\n",
      "\u001b[1;31mTypeError\u001b[0m: float() argument must be a string or a real number, not 'complex'"
     ]
    }
   ],
   "source": [
    "a=102+0j\n",
    "a1 = float(a)\n",
    "a1"
   ]
  },
  {
   "cell_type": "markdown",
   "id": "5c2bbafa",
   "metadata": {},
   "source": [
    "# Methods of Number creation "
   ]
  },
  {
   "cell_type": "markdown",
   "id": "27f15ff6",
   "metadata": {},
   "source": [
    "###    Random Number\n",
    "    Python does not have a random() function to make a random number, but Python has a built-in module \n",
    "    called random that can be used to make random numbers"
   ]
  },
  {
   "cell_type": "code",
   "execution_count": 3,
   "id": "bf99a991",
   "metadata": {},
   "outputs": [
    {
     "name": "stdout",
     "output_type": "stream",
     "text": [
      "13\n"
     ]
    }
   ],
   "source": [
    "import random\n",
    "\n",
    "print(random.randrange(1, 20,2))"
   ]
  },
  {
   "cell_type": "code",
   "execution_count": 20,
   "id": "b8154594",
   "metadata": {},
   "outputs": [
    {
     "name": "stdout",
     "output_type": "stream",
     "text": [
      "2\n",
      "4\n",
      "6\n",
      "8\n",
      "10\n",
      "12\n",
      "14\n",
      "16\n",
      "18\n",
      "20\n"
     ]
    }
   ],
   "source": [
    "for i in range(2,21,2):\n",
    "    print(i)"
   ]
  },
  {
   "cell_type": "code",
   "execution_count": null,
   "id": "b23603fd",
   "metadata": {},
   "outputs": [
    {
     "data": {
      "text/plain": [
       "[0, 1, 2, 3, 4, 5, 6, 7, 8, 9, 10, 11, 12, 13, 14, 15, 16, 17, 18, 19, 20, 21]"
      ]
     },
     "execution_count": 19,
     "metadata": {},
     "output_type": "execute_result"
    }
   ],
   "source": [
    "list(range(22))"
   ]
  },
  {
   "cell_type": "markdown",
   "id": "a2805629",
   "metadata": {},
   "source": [
    "## How to print in python"
   ]
  },
  {
   "cell_type": "code",
   "execution_count": null,
   "id": "6ee740ff",
   "metadata": {},
   "outputs": [
    {
     "name": "stdout",
     "output_type": "stream",
     "text": [
      "hello\n",
      "<class 'str'>\n"
     ]
    },
    {
     "data": {
      "text/plain": [
       "str"
      ]
     },
     "execution_count": 20,
     "metadata": {},
     "output_type": "execute_result"
    }
   ],
   "source": [
    "x = 'hello'      #string\n",
    "y = 'world'\n",
    "\n",
    "\n",
    "print(x)\n",
    "print(type(y))\n",
    "type(x)"
   ]
  },
  {
   "cell_type": "code",
   "execution_count": null,
   "id": "7a873353",
   "metadata": {},
   "outputs": [],
   "source": [
    "print(x)\n",
    "print(y)"
   ]
  },
  {
   "cell_type": "markdown",
   "id": "a2c7011e",
   "metadata": {},
   "source": [
    "## print function formatting types"
   ]
  },
  {
   "cell_type": "code",
   "execution_count": 1,
   "id": "d9ba197b",
   "metadata": {},
   "outputs": [
    {
     "name": "stdout",
     "output_type": "stream",
     "text": [
      "Moon moves around the sun in 365 days\n",
      "Moon moves around the sun in 365 days\n",
      "Moon moves around the sun in 365 days\n"
     ]
    }
   ],
   "source": [
    "#earth moves around the sun in 365 days\n",
    "\n",
    "p = \"Moon\"\n",
    "d = 365\n",
    "\n",
    "print(\"{} moves around the sun in {} days\".format(p,d)) #positional argument\n",
    "\n",
    "\n",
    "print(\"{one} moves around the sun in {two} days\".format(two = d, one = p)) #keyword argument\n",
    "\n",
    "print(f\"{p} moves around the sun in {d} days\")\n"
   ]
  },
  {
   "cell_type": "code",
   "execution_count": null,
   "id": "75d6c59e",
   "metadata": {},
   "outputs": [],
   "source": [
    "num = 32\n",
    "name = 'Pratik'\n",
    "\n"
   ]
  },
  {
   "cell_type": "code",
   "execution_count": 48,
   "id": "4145dfcb",
   "metadata": {},
   "outputs": [
    {
     "ename": "NameError",
     "evalue": "name 'num' is not defined",
     "output_type": "error",
     "traceback": [
      "\u001b[1;31m---------------------------------------------------------------------------\u001b[0m",
      "\u001b[1;31mNameError\u001b[0m                                 Traceback (most recent call last)",
      "Cell \u001b[1;32mIn[48], line 1\u001b[0m\n\u001b[1;32m----> 1\u001b[0m \u001b[38;5;28mprint\u001b[39m(\u001b[38;5;124m'\u001b[39m\u001b[38;5;124mMy number is \u001b[39m\u001b[38;5;132;01m{one}\u001b[39;00m\u001b[38;5;124m ,and my name is \u001b[39m\u001b[38;5;132;01m{two}\u001b[39;00m\u001b[38;5;124m'\u001b[39m\u001b[38;5;241m.\u001b[39mformat(one\u001b[38;5;241m=\u001b[39m\u001b[43mnum\u001b[49m,two\u001b[38;5;241m=\u001b[39mname))\n",
      "\u001b[1;31mNameError\u001b[0m: name 'num' is not defined"
     ]
    }
   ],
   "source": [
    "print('My number is {one} ,and my name is {two}'.format(one=num,two=name))"
   ]
  },
  {
   "cell_type": "code",
   "execution_count": 49,
   "id": "7c01ec43",
   "metadata": {},
   "outputs": [
    {
     "ename": "NameError",
     "evalue": "name 'num' is not defined",
     "output_type": "error",
     "traceback": [
      "\u001b[1;31m---------------------------------------------------------------------------\u001b[0m",
      "\u001b[1;31mNameError\u001b[0m                                 Traceback (most recent call last)",
      "Cell \u001b[1;32mIn[49], line 1\u001b[0m\n\u001b[1;32m----> 1\u001b[0m \u001b[38;5;28mprint\u001b[39m(\u001b[38;5;124m'\u001b[39m\u001b[38;5;124mMy number is \u001b[39m\u001b[38;5;132;01m{}\u001b[39;00m\u001b[38;5;124m, and my name is \u001b[39m\u001b[38;5;132;01m{}\u001b[39;00m\u001b[38;5;124m'\u001b[39m\u001b[38;5;241m.\u001b[39mformat(\u001b[43mnum\u001b[49m,name))\n",
      "\u001b[1;31mNameError\u001b[0m: name 'num' is not defined"
     ]
    }
   ],
   "source": [
    "print('My number is {}, and my name is {}'.format(num,name))"
   ]
  },
  {
   "cell_type": "code",
   "execution_count": 50,
   "id": "f3751b2e",
   "metadata": {},
   "outputs": [
    {
     "ename": "NameError",
     "evalue": "name 'num' is not defined",
     "output_type": "error",
     "traceback": [
      "\u001b[1;31m---------------------------------------------------------------------------\u001b[0m",
      "\u001b[1;31mNameError\u001b[0m                                 Traceback (most recent call last)",
      "Cell \u001b[1;32mIn[50], line 1\u001b[0m\n\u001b[1;32m----> 1\u001b[0m \u001b[38;5;28mprint\u001b[39m(\u001b[38;5;124mf\u001b[39m\u001b[38;5;124m'\u001b[39m\u001b[38;5;124mMy number is:\u001b[39m\u001b[38;5;132;01m{\u001b[39;00m\u001b[43mnum\u001b[49m\u001b[38;5;132;01m}\u001b[39;00m\u001b[38;5;124m, and my name is: \u001b[39m\u001b[38;5;132;01m{\u001b[39;00mname\u001b[38;5;132;01m}\u001b[39;00m\u001b[38;5;124m'\u001b[39m)\n",
      "\u001b[1;31mNameError\u001b[0m: name 'num' is not defined"
     ]
    }
   ],
   "source": [
    "print(f'My number is:{num}, and my name is: {name}')"
   ]
  },
  {
   "cell_type": "code",
   "execution_count": null,
   "id": "be72f52f",
   "metadata": {},
   "outputs": [],
   "source": [
    "name = \"abhi\"\n",
    "age = 16\n",
    "print(f\"{name} is a clever boy, he is {age} years old \")\n",
    "print('{} is a clever boy, he is {} years old'.format(name,age))\n",
    "print(\"{one} is clever boy, he is {two} years old\".format(one= name,two = age))"
   ]
  },
  {
   "cell_type": "code",
   "execution_count": null,
   "id": "1f5ca066",
   "metadata": {},
   "outputs": [
    {
     "name": "stdout",
     "output_type": "stream",
     "text": [
      "(1234, 12, 14)\n"
     ]
    }
   ],
   "source": [
    "x = 1234, 12, 14\n",
    "print(x)\n"
   ]
  },
  {
   "cell_type": "markdown",
   "id": "95b2dd2b",
   "metadata": {},
   "source": [
    "## Lists\n",
    "    Lists are used to store multiple items in a single variable.\n",
    "    Lists are created using square brackets [].\n",
    "    List items are ordered, changeable, and allow duplicate values.\n",
    "    List items are indexed, the first item has index [0], the second item \n",
    "    has index [1] etc.\n",
    "    "
   ]
  },
  {
   "cell_type": "code",
   "execution_count": 3,
   "id": "00cce5c1",
   "metadata": {},
   "outputs": [
    {
     "name": "stdout",
     "output_type": "stream",
     "text": [
      "['apple', 'banana', 'cherry', 'strawberry', 'blackberry', 'Papaya', 'pineapple', 'cherry']\n"
     ]
    },
    {
     "data": {
      "text/plain": [
       "['apple',\n",
       " 'banana',\n",
       " 'cherry',\n",
       " 'strawberry',\n",
       " 'blackberry',\n",
       " 'Papaya',\n",
       " 'pineapple',\n",
       " 'cherry']"
      ]
     },
     "execution_count": 3,
     "metadata": {},
     "output_type": "execute_result"
    }
   ],
   "source": [
    "y = [\"apple\", \"banana\", \"cherry\", \"strawberry\", \"blackberry\",\"Papaya\",\"pineapple\",'cherry']\n",
    "\n",
    "print(y) # horizontal\n",
    "y      # vertical \n"
   ]
  },
  {
   "cell_type": "code",
   "execution_count": null,
   "id": "d2e475cd",
   "metadata": {},
   "outputs": [
    {
     "name": "stdout",
     "output_type": "stream",
     "text": [
      "<class 'list'>\n"
     ]
    }
   ],
   "source": [
    "print(type(y))"
   ]
  },
  {
   "cell_type": "code",
   "execution_count": null,
   "id": "9550e79d",
   "metadata": {},
   "outputs": [
    {
     "data": {
      "text/plain": [
       "['hi', 1, [1, 2, 5, 6, 7], 2.4, 2j]"
      ]
     },
     "execution_count": 21,
     "metadata": {},
     "output_type": "execute_result"
    }
   ],
   "source": [
    "l = ['hi',1,[1,2,5,6,7],2.4,2j] # List can cantain all formats of datatype\n",
    "\n",
    "l"
   ]
  },
  {
   "cell_type": "code",
   "execution_count": null,
   "id": "69517509",
   "metadata": {},
   "outputs": [
    {
     "data": {
      "text/plain": [
       "['a', 'b', 'c', 'd', 'e']"
      ]
     },
     "execution_count": 22,
     "metadata": {},
     "output_type": "execute_result"
    }
   ],
   "source": [
    "my_list = ['a','b','c','d','e']\n",
    "my_list"
   ]
  },
  {
   "cell_type": "code",
   "execution_count": null,
   "id": "934634ef",
   "metadata": {},
   "outputs": [
    {
     "data": {
      "text/plain": [
       "['a', 'b', 'c', 'd', 'e', 'f']"
      ]
     },
     "execution_count": 23,
     "metadata": {},
     "output_type": "execute_result"
    }
   ],
   "source": [
    "my_list.append('f')\n",
    "my_list"
   ]
  },
  {
   "cell_type": "code",
   "execution_count": null,
   "id": "877789be",
   "metadata": {},
   "outputs": [
    {
     "data": {
      "text/plain": [
       "['a', 'b', 'c', 'd', 'e', 'f', ['g', 'h']]"
      ]
     },
     "execution_count": 24,
     "metadata": {},
     "output_type": "execute_result"
    }
   ],
   "source": [
    "my_list.append(['g','h'])\n",
    "my_list"
   ]
  },
  {
   "cell_type": "code",
   "execution_count": null,
   "id": "f0d31f73",
   "metadata": {},
   "outputs": [
    {
     "data": {
      "text/plain": [
       "['a', 'b', 'c', 'd', 'e', 'f', ['g', 'h'], ('i', 'j')]"
      ]
     },
     "execution_count": 25,
     "metadata": {},
     "output_type": "execute_result"
    }
   ],
   "source": [
    "my_list.append((\"i\", \"j\"))\n",
    "my_list"
   ]
  },
  {
   "cell_type": "markdown",
   "id": "ede515d4",
   "metadata": {},
   "source": [
    "# Indexing"
   ]
  },
  {
   "cell_type": "code",
   "execution_count": null,
   "id": "0b913bee",
   "metadata": {},
   "outputs": [
    {
     "data": {
      "text/plain": [
       "['g', 'h']"
      ]
     },
     "execution_count": 26,
     "metadata": {},
     "output_type": "execute_result"
    }
   ],
   "source": [
    "my_list[6]"
   ]
  },
  {
   "cell_type": "code",
   "execution_count": null,
   "id": "db3a9591",
   "metadata": {},
   "outputs": [
    {
     "data": {
      "text/plain": [
       "'e'"
      ]
     },
     "execution_count": 27,
     "metadata": {},
     "output_type": "execute_result"
    }
   ],
   "source": [
    "my_list[4]"
   ]
  },
  {
   "cell_type": "code",
   "execution_count": null,
   "id": "cc3eb1ca",
   "metadata": {},
   "outputs": [
    {
     "data": {
      "text/plain": [
       "'d'"
      ]
     },
     "execution_count": 28,
     "metadata": {},
     "output_type": "execute_result"
    }
   ],
   "source": [
    "my_list[-5]"
   ]
  },
  {
   "cell_type": "markdown",
   "id": "485bdcc8",
   "metadata": {},
   "source": [
    "# Slicing\n",
    "\n",
    "list [start_indexing : end indexing : step ]"
   ]
  },
  {
   "cell_type": "code",
   "execution_count": null,
   "id": "1e7f161a",
   "metadata": {},
   "outputs": [
    {
     "data": {
      "text/plain": [
       "['a', 'b', 'c', 'd', 'e', 'f', ['g', 'h'], ('i', 'j')]"
      ]
     },
     "execution_count": 29,
     "metadata": {},
     "output_type": "execute_result"
    }
   ],
   "source": [
    "my_list"
   ]
  },
  {
   "cell_type": "code",
   "execution_count": null,
   "id": "872b129e",
   "metadata": {},
   "outputs": [
    {
     "data": {
      "text/plain": [
       "['a', 'b', 'c', 'd', 'e', 'f', ['g', 'h'], ('i', 'j')]"
      ]
     },
     "execution_count": 33,
     "metadata": {},
     "output_type": "execute_result"
    }
   ],
   "source": [
    "my_list[:]"
   ]
  },
  {
   "cell_type": "code",
   "execution_count": null,
   "id": "9159b7f5",
   "metadata": {},
   "outputs": [
    {
     "data": {
      "text/plain": [
       "['a', 'c', 'e', ['g', 'h']]"
      ]
     },
     "execution_count": 36,
     "metadata": {},
     "output_type": "execute_result"
    }
   ],
   "source": [
    "my_list[0::2]"
   ]
  },
  {
   "cell_type": "code",
   "execution_count": null,
   "id": "6f139c46",
   "metadata": {},
   "outputs": [
    {
     "data": {
      "text/plain": [
       "[1, 2, 3, [4, 5, ['target', 'abd', ['pqr']]]]"
      ]
     },
     "execution_count": 37,
     "metadata": {},
     "output_type": "execute_result"
    }
   ],
   "source": [
    "nest = [1,2,3,[4,5,['target','abd',['pqr']]]]\n",
    "nest"
   ]
  },
  {
   "cell_type": "code",
   "execution_count": null,
   "id": "3a379fb9",
   "metadata": {},
   "outputs": [
    {
     "data": {
      "text/plain": [
       "[4, 5, ['target', 'abd', ['pqr']]]"
      ]
     },
     "execution_count": 40,
     "metadata": {},
     "output_type": "execute_result"
    }
   ],
   "source": [
    "nest[3]"
   ]
  },
  {
   "cell_type": "code",
   "execution_count": null,
   "id": "7edde2c6",
   "metadata": {},
   "outputs": [
    {
     "data": {
      "text/plain": [
       "['target', 'abd', ['pqr']]"
      ]
     },
     "execution_count": 41,
     "metadata": {},
     "output_type": "execute_result"
    }
   ],
   "source": [
    "nest[3][2]"
   ]
  },
  {
   "cell_type": "code",
   "execution_count": null,
   "id": "6ecca05d",
   "metadata": {},
   "outputs": [
    {
     "data": {
      "text/plain": [
       "'abd'"
      ]
     },
     "execution_count": 42,
     "metadata": {},
     "output_type": "execute_result"
    }
   ],
   "source": [
    "nest[3][2][1]"
   ]
  },
  {
   "cell_type": "code",
   "execution_count": null,
   "id": "88f92670",
   "metadata": {},
   "outputs": [
    {
     "data": {
      "text/plain": [
       "['pqr']"
      ]
     },
     "execution_count": 43,
     "metadata": {},
     "output_type": "execute_result"
    }
   ],
   "source": [
    "nest[3][2][2]"
   ]
  },
  {
   "cell_type": "code",
   "execution_count": null,
   "id": "52ce0c67",
   "metadata": {},
   "outputs": [
    {
     "data": {
      "text/plain": [
       "[4, 5, ['f', 'L']]"
      ]
     },
     "execution_count": 41,
     "metadata": {},
     "output_type": "execute_result"
    }
   ],
   "source": [
    "m = [4,5,['f','L']]\n",
    "m"
   ]
  },
  {
   "cell_type": "code",
   "execution_count": null,
   "id": "dc477709",
   "metadata": {},
   "outputs": [
    {
     "data": {
      "text/plain": [
       "'L'"
      ]
     },
     "execution_count": 42,
     "metadata": {},
     "output_type": "execute_result"
    }
   ],
   "source": [
    "m[2][1]"
   ]
  },
  {
   "cell_type": "code",
   "execution_count": null,
   "id": "051a00fc",
   "metadata": {},
   "outputs": [
    {
     "data": {
      "text/plain": [
       "['l', 'o', 'k', ['a', 'b', ['blue', 'orange']]]"
      ]
     },
     "execution_count": 44,
     "metadata": {},
     "output_type": "execute_result"
    }
   ],
   "source": [
    "n = ['l','o','k',['a','b',['blue','orange']]]\n",
    "n"
   ]
  },
  {
   "cell_type": "code",
   "execution_count": null,
   "id": "ef858d95",
   "metadata": {},
   "outputs": [
    {
     "data": {
      "text/plain": [
       "['blue', 'orange']"
      ]
     },
     "execution_count": 45,
     "metadata": {},
     "output_type": "execute_result"
    }
   ],
   "source": [
    "n[3][2]"
   ]
  },
  {
   "cell_type": "code",
   "execution_count": null,
   "id": "fc20a99c",
   "metadata": {},
   "outputs": [
    {
     "data": {
      "text/plain": [
       "'orange'"
      ]
     },
     "execution_count": 46,
     "metadata": {},
     "output_type": "execute_result"
    }
   ],
   "source": [
    "n[3][2][1]"
   ]
  },
  {
   "cell_type": "code",
   "execution_count": null,
   "id": "ae98588c",
   "metadata": {},
   "outputs": [
    {
     "data": {
      "text/plain": [
       "'b'"
      ]
     },
     "execution_count": 47,
     "metadata": {},
     "output_type": "execute_result"
    }
   ],
   "source": [
    "n[3][1]\n"
   ]
  },
  {
   "cell_type": "markdown",
   "id": "432abe46",
   "metadata": {},
   "source": [
    "### Allow Duplicates\n",
    "    Since lists are indexed, lists can have items with the same value:"
   ]
  },
  {
   "cell_type": "code",
   "execution_count": null,
   "id": "ea58a949",
   "metadata": {},
   "outputs": [
    {
     "name": "stdout",
     "output_type": "stream",
     "text": [
      "['apple', 'banana', 'cherry', 'apple', 'Cherry']\n"
     ]
    }
   ],
   "source": [
    "thislist = [\"apple\", \"banana\", \"cherry\", \"apple\", \"Cherry\"]\n",
    "print(thislist)"
   ]
  },
  {
   "cell_type": "code",
   "execution_count": 1,
   "id": "162a640c",
   "metadata": {},
   "outputs": [
    {
     "name": "stdout",
     "output_type": "stream",
     "text": [
      "['grapes', 'Kiwi', 'blackcurrent']\n"
     ]
    }
   ],
   "source": [
    "# Change item in the list\n",
    "thislist = [\"apple\", \"banana\", \"cherry\"]\n",
    "\n",
    "thislist[2] = \"blackcurrent\"\n",
    "thislist[1] = 'Kiwi'\n",
    "\n",
    "thislist[0] = 'grapes'\n",
    "\n",
    "print(thislist)"
   ]
  },
  {
   "cell_type": "code",
   "execution_count": null,
   "id": "dc8a0669",
   "metadata": {},
   "outputs": [
    {
     "name": "stdout",
     "output_type": "stream",
     "text": [
      "['apple', 'blackcurrent', 'banana', 'cherry']\n"
     ]
    }
   ],
   "source": [
    "thislist = [\"apple\", \"banana\", \"cherry\"]\n",
    "thislist[1:1] = [\"blackcurrent\"]\n",
    "print(thislist)"
   ]
  },
  {
   "cell_type": "code",
   "execution_count": null,
   "id": "fc406676",
   "metadata": {},
   "outputs": [
    {
     "name": "stdout",
     "output_type": "stream",
     "text": [
      "['apple', 'banana', 'cherry', ['Papaya', 'Kiwi']]\n"
     ]
    }
   ],
   "source": [
    "# add list items\n",
    "thislist = [\"apple\", \"banana\", \"cherry\"]\n",
    "thislist.append([\"Papaya\",\"Kiwi\"])\n",
    "print(thislist)"
   ]
  },
  {
   "cell_type": "code",
   "execution_count": null,
   "id": "e0395fdc",
   "metadata": {},
   "outputs": [
    {
     "name": "stdout",
     "output_type": "stream",
     "text": [
      "['apple', 'banana', 'Kiwi', 'cherry']\n"
     ]
    }
   ],
   "source": [
    "#The insert() method inserts an item at the specified index:\n",
    "thislist = [\"apple\", \"banana\", \"cherry\"]\n",
    "\n",
    "thislist.insert(2,\"Kiwi\")\n",
    "print(thislist)"
   ]
  },
  {
   "cell_type": "code",
   "execution_count": null,
   "id": "defc695e",
   "metadata": {},
   "outputs": [],
   "source": [
    "thislist"
   ]
  },
  {
   "cell_type": "code",
   "execution_count": null,
   "id": "a878ce30",
   "metadata": {},
   "outputs": [
    {
     "data": {
      "text/plain": [
       "['apple', 'cherry']"
      ]
     },
     "execution_count": 56,
     "metadata": {},
     "output_type": "execute_result"
    }
   ],
   "source": [
    "# Remove list item\n",
    "list1 = [\"apple\", \"banana\", \"cherry\"]\n",
    "list1.remove(\"banana\")\n",
    "\n",
    "list1"
   ]
  },
  {
   "cell_type": "markdown",
   "id": "1e0b4859",
   "metadata": {},
   "source": [
    "#Sort List \n",
    "#List objects have a sort() method that will sort the list alphanumerically, ascending, by default:"
   ]
  },
  {
   "cell_type": "code",
   "execution_count": 1,
   "id": "f69e7e3b",
   "metadata": {},
   "outputs": [
    {
     "name": "stdout",
     "output_type": "stream",
     "text": [
      "['banana', 'kiwi', 'mango', 'orange', 'pineapple']\n"
     ]
    }
   ],
   "source": [
    "thislist = [\"orange\", \"mango\", \"kiwi\", \"pineapple\", \"banana\"]\n",
    "thislist.sort()\n",
    "print(thislist)"
   ]
  },
  {
   "cell_type": "code",
   "execution_count": 38,
   "id": "5d7f3990",
   "metadata": {},
   "outputs": [
    {
     "name": "stdout",
     "output_type": "stream",
     "text": [
      "['False', 'None', 'True', 'and', 'as', 'assert', 'async', 'await', 'break', 'class', 'continue', 'def', 'del', 'elif', 'else', 'except', 'finally', 'for', 'from', 'global', 'if', 'import', 'in', 'is', 'lambda', 'nonlocal', 'not', 'or', 'pass', 'raise', 'return', 'try', 'while', 'with', 'yield']\n"
     ]
    }
   ],
   "source": [
    "import keyword\n",
    "print(keyword.kwlist)"
   ]
  },
  {
   "cell_type": "code",
   "execution_count": 2,
   "id": "a4cf723b",
   "metadata": {},
   "outputs": [
    {
     "data": {
      "text/plain": [
       "['pineapple', 'orange', 'mango', 'kiwi', 'banana']"
      ]
     },
     "execution_count": 2,
     "metadata": {},
     "output_type": "execute_result"
    }
   ],
   "source": [
    "thislist.sort(reverse=True)\n",
    "thislist"
   ]
  },
  {
   "cell_type": "code",
   "execution_count": 3,
   "id": "2d9e11c3",
   "metadata": {},
   "outputs": [
    {
     "name": "stdout",
     "output_type": "stream",
     "text": [
      "[1, 2, 3, 4, 5, 6, 7, 8, 9]\n"
     ]
    }
   ],
   "source": [
    "number = [2,5,3,7,8,1,4,6,9]\n",
    "\n",
    "number.sort()\n",
    "print(number)"
   ]
  },
  {
   "cell_type": "code",
   "execution_count": 4,
   "id": "9e375cdc",
   "metadata": {},
   "outputs": [
    {
     "data": {
      "text/plain": [
       "[9, 8, 7, 6, 5, 4, 3, 2, 1]"
      ]
     },
     "execution_count": 4,
     "metadata": {},
     "output_type": "execute_result"
    }
   ],
   "source": [
    "number.sort(reverse=True)\n",
    "number"
   ]
  },
  {
   "cell_type": "markdown",
   "id": "4aaf7be2",
   "metadata": {},
   "source": [
    "## Tuples\n",
    "    Tuples are used to store multiple items in a single variable.\n",
    "    A tuple is a collection which is ordered, unchangeable and allow \n",
    "    duplicate items.\n",
    "    Tuples are written with round brackets."
   ]
  },
  {
   "cell_type": "code",
   "execution_count": 5,
   "id": "aaf3b508",
   "metadata": {},
   "outputs": [
    {
     "name": "stdout",
     "output_type": "stream",
     "text": [
      "('apple', 'banana', 'cherry', 'apple', 'cherry')\n"
     ]
    }
   ],
   "source": [
    "thistuple = (\"apple\", \"banana\", \"cherry\", \"apple\", \"cherry\")\n",
    "print(thistuple)"
   ]
  },
  {
   "cell_type": "code",
   "execution_count": 6,
   "id": "3149f5fd",
   "metadata": {},
   "outputs": [
    {
     "name": "stdout",
     "output_type": "stream",
     "text": [
      "['apple', 'banana', 'cherry']\n",
      "<class 'list'>\n",
      "['apple', 'banana', 'Kiwi']\n",
      "x1 =  ('apple', 'banana', 'Kiwi')\n"
     ]
    }
   ],
   "source": [
    "x = (\"apple\", \"banana\", \"cherry\")\n",
    "#x[2]= \"kiwi\"\n",
    "#print(type(x))\n",
    "\n",
    "y = list(x) #typecasting convert tuple into list\n",
    "\n",
    "print(y)\n",
    "print(type(y))\n",
    "\n",
    "\n",
    "y[2]= \"Kiwi\"\n",
    "print(y)\n",
    "\n",
    "x1 = tuple(y)  # typecasting convert list into tuple \n",
    "print('x1 = ',x1)"
   ]
  },
  {
   "cell_type": "code",
   "execution_count": 7,
   "id": "1e831dd0",
   "metadata": {},
   "outputs": [
    {
     "name": "stdout",
     "output_type": "stream",
     "text": [
      "<class 'tuple'>\n"
     ]
    }
   ],
   "source": [
    "x = (\"apple\", \"banana\", \"cherry\")\n",
    "print(type(x))\n",
    "\n"
   ]
  },
  {
   "cell_type": "markdown",
   "id": "3a99836b",
   "metadata": {},
   "source": [
    "## Sets\n",
    "    Sets are used to store multiple items in a single variable.\n",
    "    Set items are unordered, unchangeable, and do not allow duplicate values.\n",
    "    A set is a collection which is unordered, unchangeable*, and unindexed.\n",
    "    Set items are unchangeable, but you can remove items and add new items.\n",
    "    set can be shows as curly bracket {}."
   ]
  },
  {
   "cell_type": "code",
   "execution_count": 8,
   "id": "68990171",
   "metadata": {},
   "outputs": [
    {
     "name": "stdout",
     "output_type": "stream",
     "text": [
      "{'cherry', 'banana', 'apple'}\n"
     ]
    }
   ],
   "source": [
    "thisset = {\"apple\", \"banana\", \"cherry\",\"cherry\",\"banana\"}\n",
    "print(thisset)"
   ]
  },
  {
   "cell_type": "code",
   "execution_count": 9,
   "id": "dfb5a4e0",
   "metadata": {},
   "outputs": [
    {
     "name": "stdout",
     "output_type": "stream",
     "text": [
      "{'banana', 'apple', 'orange', 'cherry', 'papaya'}\n"
     ]
    }
   ],
   "source": [
    "#Add new item\n",
    "thisset = {\"apple\", \"banana\", \"cherry\"}\n",
    "\n",
    "thisset.add(\"orange\")\n",
    "thisset.add(\"papaya\")\n",
    "print(thisset)"
   ]
  },
  {
   "cell_type": "code",
   "execution_count": 10,
   "id": "a9e35684",
   "metadata": {},
   "outputs": [
    {
     "name": "stdout",
     "output_type": "stream",
     "text": [
      "{'cherry', 'apple'}\n"
     ]
    }
   ],
   "source": [
    "# Remove items\n",
    "thisset = {\"apple\", \"banana\", \"cherry\"}\n",
    "\n",
    "thisset.remove(\"banana\")\n",
    "\n",
    "print(thisset)"
   ]
  },
  {
   "cell_type": "markdown",
   "id": "7e157ab0",
   "metadata": {},
   "source": [
    "## Dictionaries\n",
    "    Dictionaries are used to store data values in key:value pairs.\n",
    "    A dictionary is a collection which is ordered*, changeable and do not \n",
    "    allow duplicates."
   ]
  },
  {
   "cell_type": "code",
   "execution_count": 11,
   "id": "6eac906a",
   "metadata": {},
   "outputs": [
    {
     "name": "stdout",
     "output_type": "stream",
     "text": [
      "{'key1': 'item1', 'key2': 'item2', 'key3': 'item3'}\n"
     ]
    }
   ],
   "source": [
    "d = {'key1':'item1',\n",
    "     'key2':'item2',\n",
    "     'key3':'item3'}\n",
    "print(d)\n",
    "\n"
   ]
  },
  {
   "cell_type": "code",
   "execution_count": 12,
   "id": "c6f35a18",
   "metadata": {},
   "outputs": [
    {
     "data": {
      "text/plain": [
       "{'Name': 'Pratik', 'Age': 27, 'Education': 'Graduate', 'location': 'Pune'}"
      ]
     },
     "execution_count": 12,
     "metadata": {},
     "output_type": "execute_result"
    }
   ],
   "source": [
    "d1= {\"Name\":'Pratik',\n",
    "     'Age':27,\n",
    "     'Education':'Graduate',\n",
    "     'location':'Pune'}\n",
    "\n",
    "d1"
   ]
  },
  {
   "cell_type": "code",
   "execution_count": 39,
   "id": "771d509f",
   "metadata": {},
   "outputs": [
    {
     "name": "stdout",
     "output_type": "stream",
     "text": [
      "Pratik\n"
     ]
    }
   ],
   "source": [
    "# access the item\n",
    "print(d1['Name'])\n",
    "\n"
   ]
  },
  {
   "cell_type": "code",
   "execution_count": 14,
   "id": "0f186d82",
   "metadata": {},
   "outputs": [
    {
     "name": "stdout",
     "output_type": "stream",
     "text": [
      "{'brand': 'Ford', 'model': 'Figo', 'year': 2023}\n"
     ]
    }
   ],
   "source": [
    "# Duplicates Not Allowed\n",
    "#Dictionaries cannot have two items with the same key\n",
    "\n",
    "thisdict = {\n",
    "              \"brand\": \"Ford\",\n",
    "              \"model\": \"Mustang\",\n",
    "              \"model\":\"Endeavor\",\n",
    "              \"model\":\"gt\",\n",
    "              \"model\":\"Figo\",\n",
    "              \"year\": 2000,\n",
    "              \"year\": 1965,\n",
    "              \"year\":2023\n",
    "                            }\n",
    "print(thisdict)"
   ]
  },
  {
   "cell_type": "code",
   "execution_count": 42,
   "id": "d4a1918d",
   "metadata": {},
   "outputs": [
    {
     "data": {
      "text/plain": [
       "{'brand': 'BMW', 'model': 'Gt', 'year': 2023}"
      ]
     },
     "execution_count": 42,
     "metadata": {},
     "output_type": "execute_result"
    }
   ],
   "source": [
    "# change the item\n",
    "thisdict = {\n",
    "  \"brand\": \"Ford\",\n",
    "  \"model\": \"Mustang\",\n",
    "  \"year\": 1964\n",
    "}\n",
    "\n",
    "\n",
    "thisdict[\"year\"] = 2023\n",
    "thisdict[\"model\"]= \"Gt\"\n",
    "\n",
    "thisdict['brand'] = \"BMW\"\n",
    "thisdict"
   ]
  },
  {
   "cell_type": "code",
   "execution_count": 16,
   "id": "64869524",
   "metadata": {},
   "outputs": [
    {
     "data": {
      "text/plain": [
       "{'brand': 'BMW', 'model': 'Gt', 'year': 2023}"
      ]
     },
     "execution_count": 16,
     "metadata": {},
     "output_type": "execute_result"
    }
   ],
   "source": [
    "thisdict"
   ]
  },
  {
   "cell_type": "code",
   "execution_count": 17,
   "id": "fbe556db",
   "metadata": {},
   "outputs": [
    {
     "name": "stdout",
     "output_type": "stream",
     "text": [
      "{'brand': 'Ford', 'model': 'Mustang', 'year': 1964, 'color': 'Blue', 'drive': 'all_wheel', 'Contry': 'Germany'}\n"
     ]
    }
   ],
   "source": [
    "# add the item\n",
    "thisdict = {\n",
    "  \"brand\": \"Ford\",\n",
    "  \"model\": \"Mustang\",\n",
    "   \"year\": 1964\n",
    "}\n",
    "\n",
    "\n",
    "thisdict[\"color\"] =\"Blue\"\n",
    "\n",
    "thisdict[\"drive\"]= \"all_wheel\"\n",
    "\n",
    "thisdict['Contry'] = 'Germany'\n",
    "print(thisdict)"
   ]
  },
  {
   "cell_type": "code",
   "execution_count": 18,
   "id": "28b392ce",
   "metadata": {},
   "outputs": [
    {
     "name": "stdout",
     "output_type": "stream",
     "text": [
      "{'brand': 'Ford', 'model': 'Mustang'}\n"
     ]
    }
   ],
   "source": [
    "# Remove the item\n",
    "thisdict = {\n",
    "  \"brand\": \"Ford\",\n",
    "  \"model\": \"Mustang\",\n",
    "   \"year\": 1964\n",
    "}\n",
    "\n",
    "\n",
    "thisdict.pop(\"year\")\n",
    "print(thisdict)"
   ]
  },
  {
   "cell_type": "markdown",
   "id": "be5b6ca3",
   "metadata": {},
   "source": [
    "### Operators"
   ]
  },
  {
   "cell_type": "code",
   "execution_count": 19,
   "id": "6a23c8f8",
   "metadata": {},
   "outputs": [
    {
     "data": {
      "text/plain": [
       "5"
      ]
     },
     "execution_count": 19,
     "metadata": {},
     "output_type": "execute_result"
    }
   ],
   "source": [
    "#addition\n",
    "\n",
    "2+3"
   ]
  },
  {
   "cell_type": "code",
   "execution_count": 20,
   "id": "0e45d8be",
   "metadata": {},
   "outputs": [
    {
     "data": {
      "text/plain": [
       "766"
      ]
     },
     "execution_count": 20,
     "metadata": {},
     "output_type": "execute_result"
    }
   ],
   "source": [
    "#substraction\n",
    "\n",
    "2342-1576"
   ]
  },
  {
   "cell_type": "code",
   "execution_count": 21,
   "id": "92d5a33d",
   "metadata": {},
   "outputs": [
    {
     "data": {
      "text/plain": [
       "60"
      ]
     },
     "execution_count": 21,
     "metadata": {},
     "output_type": "execute_result"
    }
   ],
   "source": [
    "#Multiplication\n",
    "\n",
    "12*5"
   ]
  },
  {
   "cell_type": "code",
   "execution_count": 22,
   "id": "cd9c316c",
   "metadata": {},
   "outputs": [
    {
     "data": {
      "text/plain": [
       "4.2"
      ]
     },
     "execution_count": 22,
     "metadata": {},
     "output_type": "execute_result"
    }
   ],
   "source": [
    "#Divide\n",
    "\n",
    "21/5"
   ]
  },
  {
   "cell_type": "code",
   "execution_count": 23,
   "id": "a22d3b98",
   "metadata": {},
   "outputs": [
    {
     "data": {
      "text/plain": [
       "4"
      ]
     },
     "execution_count": 23,
     "metadata": {},
     "output_type": "execute_result"
    }
   ],
   "source": [
    "#Floor Division\n",
    "\n",
    "21 // 5           # Quotient"
   ]
  },
  {
   "cell_type": "code",
   "execution_count": 24,
   "id": "0823259f",
   "metadata": {},
   "outputs": [
    {
     "data": {
      "text/plain": [
       "1"
      ]
     },
     "execution_count": 24,
     "metadata": {},
     "output_type": "execute_result"
    }
   ],
   "source": [
    "#Modulus\n",
    "\n",
    "21 % 5  \n",
    "# remainder"
   ]
  },
  {
   "cell_type": "markdown",
   "id": "2aa427ba",
   "metadata": {},
   "source": [
    "## Comparison Operators"
   ]
  },
  {
   "cell_type": "code",
   "execution_count": 25,
   "id": "b884127c",
   "metadata": {},
   "outputs": [
    {
     "data": {
      "text/plain": [
       "True"
      ]
     },
     "execution_count": 25,
     "metadata": {},
     "output_type": "execute_result"
    }
   ],
   "source": [
    "1 <= 2"
   ]
  },
  {
   "cell_type": "code",
   "execution_count": 26,
   "id": "273eecfd",
   "metadata": {},
   "outputs": [
    {
     "data": {
      "text/plain": [
       "False"
      ]
     },
     "execution_count": 26,
     "metadata": {},
     "output_type": "execute_result"
    }
   ],
   "source": [
    "1 >= 2"
   ]
  },
  {
   "cell_type": "code",
   "execution_count": 27,
   "id": "180a1a4d",
   "metadata": {},
   "outputs": [
    {
     "data": {
      "text/plain": [
       "False"
      ]
     },
     "execution_count": 27,
     "metadata": {},
     "output_type": "execute_result"
    }
   ],
   "source": [
    "'hi' == 'bye'   # equally equals to "
   ]
  },
  {
   "cell_type": "code",
   "execution_count": 28,
   "id": "de4d6825",
   "metadata": {},
   "outputs": [
    {
     "data": {
      "text/plain": [
       "True"
      ]
     },
     "execution_count": 28,
     "metadata": {},
     "output_type": "execute_result"
    }
   ],
   "source": [
    "'hi' != 'bye'   #not equals to "
   ]
  },
  {
   "cell_type": "code",
   "execution_count": 29,
   "id": "2e64f044",
   "metadata": {},
   "outputs": [
    {
     "data": {
      "text/plain": [
       "False"
      ]
     },
     "execution_count": 29,
     "metadata": {},
     "output_type": "execute_result"
    }
   ],
   "source": [
    "\"hi\" == \"Hi\""
   ]
  },
  {
   "cell_type": "code",
   "execution_count": 30,
   "id": "90510351",
   "metadata": {},
   "outputs": [
    {
     "data": {
      "text/plain": [
       "False"
      ]
     },
     "execution_count": 30,
     "metadata": {},
     "output_type": "execute_result"
    }
   ],
   "source": [
    "'Data_Science'\n",
    "\n",
    "'C' in \"Data_Science\"  # cheking "
   ]
  },
  {
   "cell_type": "code",
   "execution_count": null,
   "id": "c4b5d590",
   "metadata": {},
   "outputs": [],
   "source": []
  },
  {
   "cell_type": "markdown",
   "id": "cc47449a",
   "metadata": {},
   "source": [
    "## Logic Operators\t\n",
    "   \n",
    "and Returns True if both statements are true\t\n",
    "\n",
    "or\tReturns True if one of the statements is true\t\n",
    "\n",
    "not\t Reverse the result, returns False if the result is true"
   ]
  },
  {
   "cell_type": "code",
   "execution_count": 31,
   "id": "6b965b4c",
   "metadata": {},
   "outputs": [
    {
     "data": {
      "text/plain": [
       "False"
      ]
     },
     "execution_count": 31,
     "metadata": {},
     "output_type": "execute_result"
    }
   ],
   "source": [
    "(1 > 2) and (2 > 3) # false and true"
   ]
  },
  {
   "cell_type": "code",
   "execution_count": 32,
   "id": "190d86b4",
   "metadata": {},
   "outputs": [
    {
     "data": {
      "text/plain": [
       "True"
      ]
     },
     "execution_count": 32,
     "metadata": {},
     "output_type": "execute_result"
    }
   ],
   "source": [
    "(1 < 2) or (2 == 3)"
   ]
  },
  {
   "cell_type": "code",
   "execution_count": 33,
   "id": "b863eef4",
   "metadata": {},
   "outputs": [
    {
     "data": {
      "text/plain": [
       "True"
      ]
     },
     "execution_count": 33,
     "metadata": {},
     "output_type": "execute_result"
    }
   ],
   "source": [
    "(1 == 2) or (2 == 3) or ( 4 == 4) "
   ]
  },
  {
   "cell_type": "code",
   "execution_count": 44,
   "id": "ace725e9",
   "metadata": {},
   "outputs": [
    {
     "data": {
      "text/plain": [
       "False"
      ]
     },
     "execution_count": 44,
     "metadata": {},
     "output_type": "execute_result"
    }
   ],
   "source": [
    "not((1 == 2)or (2 == 3) or (4 == 4))"
   ]
  },
  {
   "cell_type": "code",
   "execution_count": 35,
   "id": "f022ad36",
   "metadata": {},
   "outputs": [
    {
     "data": {
      "text/plain": [
       "True"
      ]
     },
     "execution_count": 35,
     "metadata": {},
     "output_type": "execute_result"
    }
   ],
   "source": [
    "not(False)"
   ]
  },
  {
   "cell_type": "code",
   "execution_count": 36,
   "id": "33575cc4",
   "metadata": {},
   "outputs": [
    {
     "data": {
      "text/plain": [
       "False"
      ]
     },
     "execution_count": 36,
     "metadata": {},
     "output_type": "execute_result"
    }
   ],
   "source": [
    "not(True)"
   ]
  },
  {
   "cell_type": "code",
   "execution_count": 46,
   "id": "278178ef",
   "metadata": {},
   "outputs": [
    {
     "data": {
      "text/plain": [
       "True"
      ]
     },
     "execution_count": 46,
     "metadata": {},
     "output_type": "execute_result"
    }
   ],
   "source": [
    "((10>2) and (30>4) and (4==4))"
   ]
  },
  {
   "cell_type": "code",
   "execution_count": null,
   "id": "229412a6",
   "metadata": {},
   "outputs": [],
   "source": []
  }
 ],
 "metadata": {
  "kernelspec": {
   "display_name": "base",
   "language": "python",
   "name": "python3"
  },
  "language_info": {
   "codemirror_mode": {
    "name": "ipython",
    "version": 3
   },
   "file_extension": ".py",
   "mimetype": "text/x-python",
   "name": "python",
   "nbconvert_exporter": "python",
   "pygments_lexer": "ipython3",
   "version": "3.11.7"
  }
 },
 "nbformat": 4,
 "nbformat_minor": 5
}
