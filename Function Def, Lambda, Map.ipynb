{
 "cells": [
  {
   "cell_type": "markdown",
   "id": "6fa4c34f",
   "metadata": {},
   "source": [
    "# Function\n",
    "\n",
    "1)A function is a block of code which only runs when it is called.\n",
    "\n",
    "2)You can pass data, known as parameters, into a function.\n",
    "\n",
    "3)A function can return data as a result."
   ]
  },
  {
   "cell_type": "code",
   "execution_count": 2,
   "id": "31e3e401",
   "metadata": {},
   "outputs": [
    {
     "name": "stdout",
     "output_type": "stream",
     "text": [
      "Hello from a function\n"
     ]
    }
   ],
   "source": [
    "def my_function():\n",
    "\n",
    "    print(\"Hello from a function\")\n",
    "    \n",
    "    \n",
    "    \n",
    "my_function()   # calling of function \n"
   ]
  },
  {
   "cell_type": "code",
   "execution_count": 15,
   "id": "2fd83c1a",
   "metadata": {
    "scrolled": true
   },
   "outputs": [
    {
     "data": {
      "text/plain": [
       "'Hello from a function'"
      ]
     },
     "execution_count": 15,
     "metadata": {},
     "output_type": "execute_result"
    }
   ],
   "source": [
    "def my_function():\n",
    "    return(\"Hello from a function\")\n",
    "    \n",
    "my_function()"
   ]
  },
  {
   "cell_type": "markdown",
   "id": "fe792b17",
   "metadata": {},
   "source": [
    "# Print VS Return"
   ]
  },
  {
   "cell_type": "code",
   "execution_count": 3,
   "id": "657f8c5a",
   "metadata": {},
   "outputs": [],
   "source": [
    "#print is inbuilt function \n",
    "#return is Keyword"
   ]
  },
  {
   "cell_type": "code",
   "execution_count": 16,
   "id": "39685d22",
   "metadata": {},
   "outputs": [
    {
     "name": "stdout",
     "output_type": "stream",
     "text": [
      "8\n"
     ]
    }
   ],
   "source": [
    "def addition(x,y):\n",
    "    print(x+y)\n",
    "    \n",
    "    \n",
    "addition(3,5)"
   ]
  },
  {
   "cell_type": "code",
   "execution_count": 3,
   "id": "eca06784",
   "metadata": {},
   "outputs": [
    {
     "name": "stdout",
     "output_type": "stream",
     "text": [
      "15\n"
     ]
    }
   ],
   "source": [
    "def addition(x,y):\n",
    "    return(x+y)\n",
    "    \n",
    "result = addition(10,5)    \n",
    "print(result)\n",
    "\n",
    "\n"
   ]
  },
  {
   "cell_type": "code",
   "execution_count": 18,
   "id": "f7cec432",
   "metadata": {},
   "outputs": [
    {
     "name": "stdout",
     "output_type": "stream",
     "text": [
      "12\n",
      "None\n"
     ]
    }
   ],
   "source": [
    "def addition(x,y):\n",
    "    print(x+y)\n",
    "    \n",
    "result1 = addition(3,9)    \n",
    "print(result1)"
   ]
  },
  {
   "cell_type": "code",
   "execution_count": 4,
   "id": "55e43325",
   "metadata": {},
   "outputs": [
    {
     "data": {
      "text/plain": [
       "45"
      ]
     },
     "execution_count": 4,
     "metadata": {},
     "output_type": "execute_result"
    }
   ],
   "source": [
    "result*3"
   ]
  },
  {
   "cell_type": "code",
   "execution_count": 46,
   "id": "00fa825c",
   "metadata": {},
   "outputs": [
    {
     "data": {
      "text/plain": [
       "23"
      ]
     },
     "execution_count": 46,
     "metadata": {},
     "output_type": "execute_result"
    }
   ],
   "source": [
    "result+8"
   ]
  },
  {
   "cell_type": "code",
   "execution_count": 47,
   "id": "cd19f829",
   "metadata": {},
   "outputs": [
    {
     "data": {
      "text/plain": [
       "15"
      ]
     },
     "execution_count": 47,
     "metadata": {},
     "output_type": "execute_result"
    }
   ],
   "source": [
    "result"
   ]
  },
  {
   "cell_type": "markdown",
   "id": "e630310f",
   "metadata": {},
   "source": [
    "## Arguments\n",
    "Information can be passed into functions as arguments.\n",
    "\n",
    "Arguments are specified after the function name, inside the parentheses. You can add as many arguments as you want, just separate them with a comma.\n",
    "\n",
    "The following example has a function with one argument (fname). When the function is called, we pass along a first name, which is used inside the function to print the full name:"
   ]
  },
  {
   "cell_type": "code",
   "execution_count": 19,
   "id": "bf819a06",
   "metadata": {},
   "outputs": [
    {
     "name": "stdout",
     "output_type": "stream",
     "text": [
      " Hi  Rocky welcome to the future!!!\n",
      " Hi  Linus welcome to the future!!!\n",
      " Hi  omkar welcome to the future!!!\n"
     ]
    }
   ],
   "source": [
    "def my_function(fname):\n",
    "    print(\" Hi \" , fname ,'welcome to the future!!!')\n",
    "\n",
    "\n",
    "my_function(\"Rocky\")\n",
    "my_function(\"Linus\")\n",
    "my_function(\"omkar\")\n"
   ]
  },
  {
   "cell_type": "code",
   "execution_count": 22,
   "id": "1739547d",
   "metadata": {},
   "outputs": [
    {
     "name": "stdout",
     "output_type": "stream",
     "text": [
      "Singh Supriya\n",
      "Sharma Rohit\n"
     ]
    }
   ],
   "source": [
    "def my_function(f_name,l_name):\n",
    "    print( l_name, f_name)\n",
    "    \n",
    "my_function(\"Supriya\",\"Singh\")\n",
    "my_function(\"Rohit\",\"Sharma\")"
   ]
  },
  {
   "cell_type": "code",
   "execution_count": 23,
   "id": "aa5fdd36",
   "metadata": {},
   "outputs": [
    {
     "name": "stdout",
     "output_type": "stream",
     "text": [
      "30\n",
      "944\n",
      "4410\n"
     ]
    }
   ],
   "source": [
    "def add(a,b):\n",
    "    add = a+b\n",
    "    print(add)\n",
    " \n",
    "        \n",
    "add(10,20)\n",
    "add(45,899)\n",
    "add(10,4400)\n"
   ]
  },
  {
   "cell_type": "code",
   "execution_count": 20,
   "id": "c28dbd5f",
   "metadata": {},
   "outputs": [
    {
     "data": {
      "text/plain": [
       "60"
      ]
     },
     "execution_count": 20,
     "metadata": {},
     "output_type": "execute_result"
    }
   ],
   "source": [
    "def add(a,b):\n",
    "    return(a+b)\n",
    "    \n",
    "result =  add(20,40)\n",
    "\n",
    "add(20,40)"
   ]
  },
  {
   "cell_type": "code",
   "execution_count": 21,
   "id": "3e397307",
   "metadata": {},
   "outputs": [
    {
     "data": {
      "text/plain": [
       "60"
      ]
     },
     "execution_count": 21,
     "metadata": {},
     "output_type": "execute_result"
    }
   ],
   "source": [
    "result"
   ]
  },
  {
   "cell_type": "markdown",
   "id": "71e8983b",
   "metadata": {},
   "source": [
    "### Arbitrary Positional arguments, *args\n",
    "- If you do not know how many arguments that will be passed into your function, add a * before the parameter name in the function definition.\n",
    "\n",
    "- What *args allows you to do is take in more arguments than the number of formal arguments that you previously defined."
   ]
  },
  {
   "cell_type": "code",
   "execution_count": null,
   "id": "e8a8f4d3",
   "metadata": {},
   "outputs": [
    {
     "ename": "",
     "evalue": "",
     "output_type": "error",
     "traceback": [
      "\u001b[1;31mFailed to start the Kernel. \n",
      "\u001b[1;31mUnable to start Kernel 'base (Python 3.11.7)' due to a timeout waiting for the ports to get used. \n",
      "\u001b[1;31mView Jupyter <a href='command:jupyter.viewOutput'>log</a> for further details."
     ]
    }
   ],
   "source": [
    "def my_function(*fname):\n",
    "    print(\" Hi \" , fname)\n",
    "\n",
    "\n",
    "my_function(\"Rocky\")\n",
    "my_function(\"Linus\")\n",
    "my_function(\"ram\",\"kisan\",\"sharma\",\"gupta\")"
   ]
  },
  {
   "cell_type": "code",
   "execution_count": null,
   "id": "dabd9ad9",
   "metadata": {},
   "outputs": [
    {
     "ename": "",
     "evalue": "",
     "output_type": "error",
     "traceback": [
      "\u001b[1;31mFailed to start the Kernel. \n",
      "\u001b[1;31mUnable to start Kernel 'base (Python 3.11.7)' due to a timeout waiting for the ports to get used. \n",
      "\u001b[1;31mView Jupyter <a href='command:jupyter.viewOutput'>log</a> for further details."
     ]
    }
   ],
   "source": [
    "def my_function(*cars):\n",
    "    print(\"The most selling cars is \" + cars[1])\n",
    "\n",
    "\n",
    "\n",
    "my_function(\"Wagnor\",\"santro\",\"swift\")"
   ]
  },
  {
   "cell_type": "code",
   "execution_count": null,
   "id": "9aa0ba9f",
   "metadata": {},
   "outputs": [
    {
     "ename": "",
     "evalue": "",
     "output_type": "error",
     "traceback": [
      "\u001b[1;31mFailed to start the Kernel. \n",
      "\u001b[1;31mUnable to start Kernel 'base (Python 3.11.7)' due to a timeout waiting for the ports to get used. \n",
      "\u001b[1;31mView Jupyter <a href='command:jupyter.viewOutput'>log</a> for further details."
     ]
    }
   ],
   "source": [
    "def nameAge(name, age):\n",
    "    print(\"Hi, I am\", name)\n",
    "    print(\"My age is \", age)\n",
    "\n",
    "    \n",
    "#You will get correct output because argument is given in order\n",
    "\n",
    "#print(\"Case_1:\")\n",
    "nameAge(\"Prince\", 20)\n",
    "\n",
    "# You will get incorrect output because argument is not in order\n",
    "print()\n",
    "print()\n",
    "#print(\"\\nCase_2:\")\n",
    "nameAge(20, \"Prince\")"
   ]
  },
  {
   "cell_type": "markdown",
   "id": "f068ee1b",
   "metadata": {},
   "source": [
    "### Keywords Arguments\n",
    "You can also send arguments with the key = value syntax.\n",
    "\n",
    "This way the order of the arguments does not matter."
   ]
  },
  {
   "cell_type": "code",
   "execution_count": 32,
   "id": "5d9bbfab",
   "metadata": {},
   "outputs": [
    {
     "name": "stdout",
     "output_type": "stream",
     "text": [
      "Hi, I am Prince\n",
      "My age is  20\n",
      "\n",
      "Hi, I am Prince\n",
      "My age is  20\n"
     ]
    }
   ],
   "source": [
    "\n",
    "def nameAge(name, age):\n",
    "    print(\"Hi, I am\", name)\n",
    "    print(\"My age is \", age)\n",
    "\n",
    "    \n",
    "nameAge(name=\"Prince\", age=20)\n",
    "print()\n",
    "nameAge(age=20, name=\"Prince\")"
   ]
  },
  {
   "cell_type": "code",
   "execution_count": 33,
   "id": "8fa9bc74",
   "metadata": {},
   "outputs": [
    {
     "name": "stdout",
     "output_type": "stream",
     "text": [
      "The most selling car is Tiago\n"
     ]
    }
   ],
   "source": [
    "def my_function(car3,car2,car1):\n",
    "    print(\"The most selling car is \" + car2)\n",
    "    \n",
    "my_function(car1=\"Wagnor\",car2=\"Tiago\",car3 =\"Punch\")"
   ]
  },
  {
   "cell_type": "markdown",
   "id": "76146c60",
   "metadata": {},
   "source": [
    "#### Arbiratry Keyword Argument, ** kwargs\n",
    "\n",
    "If you do not know how many keyword arguments that will be passed into your function, add two asterisk: ** before the parameter name in the function definition.\n",
    "\n",
    "This way the function will receive a dictionary of arguments, and can access the items accordingly:"
   ]
  },
  {
   "cell_type": "code",
   "execution_count": 10,
   "id": "2d4943d0",
   "metadata": {},
   "outputs": [
    {
     "name": "stdout",
     "output_type": "stream",
     "text": [
      "His last name is Hajare\n",
      "His first name is Akshay\n",
      "His Name is  {'fname': 'Akshay', 'lname': 'Hajare'}\n",
      "His last name is Hajare\n",
      "His first name is Akshay\n",
      "His Name is  {'lname': 'Hajare', 'fname': 'Akshay'}\n"
     ]
    }
   ],
   "source": [
    "def my_function(**kid):\n",
    "    print(\"His last name is \" + kid[\"lname\"])\n",
    "    print(\"His first name is \" + kid[\"fname\"])\n",
    "    print('His Name is ', kid)\n",
    "    \n",
    "my_function(fname = \"Akshay\", lname = \"Hajare\")\n",
    "my_function(lname = \"Hajare\",fname = \"Akshay\")"
   ]
  },
  {
   "cell_type": "code",
   "execution_count": null,
   "id": "84ed9707",
   "metadata": {},
   "outputs": [],
   "source": [
    "## more example"
   ]
  },
  {
   "cell_type": "code",
   "execution_count": 52,
   "id": "6b702aba",
   "metadata": {},
   "outputs": [
    {
     "name": "stdout",
     "output_type": "stream",
     "text": [
      "I am from  Scotland\n",
      "I am from  India\n",
      "I am from  Norway\n",
      "I am from  Brazil\n",
      "I am from  Norway\n"
     ]
    }
   ],
   "source": [
    "def my_function(country = \"Norway\"):\n",
    "    print(\"I am from \", country)\n",
    "\n",
    "my_function(\"Scotland\")\n",
    "my_function(\"India\")\n",
    "my_function()\n",
    "my_function(\"Brazil\")\n",
    "my_function()"
   ]
  },
  {
   "cell_type": "code",
   "execution_count": 39,
   "id": "bcdff89b",
   "metadata": {},
   "outputs": [
    {
     "name": "stdout",
     "output_type": "stream",
     "text": [
      "15\n"
     ]
    }
   ],
   "source": [
    "def add_numbers(a, b):\n",
    "    return a + b\n",
    "result=add_numbers(5,10)\n",
    "print(result)"
   ]
  },
  {
   "cell_type": "code",
   "execution_count": 40,
   "id": "c12d65df",
   "metadata": {},
   "outputs": [
    {
     "data": {
      "text/plain": [
       "30"
      ]
     },
     "execution_count": 40,
     "metadata": {},
     "output_type": "execute_result"
    }
   ],
   "source": [
    "def add_numbers(a, b):\n",
    "    return a + b\n",
    "add_numbers(10,20)"
   ]
  },
  {
   "cell_type": "code",
   "execution_count": 12,
   "id": "03fd922b",
   "metadata": {},
   "outputs": [
    {
     "name": "stdout",
     "output_type": "stream",
     "text": [
      "Enter your number:35\n",
      "False\n"
     ]
    }
   ],
   "source": [
    "number = int(input(\"Enter your number:\"))\n",
    "\n",
    "def is_even(number):\n",
    "    if number%2==0:\n",
    "        return True\n",
    "    else:\n",
    "        return False\n",
    "    \n",
    "print(is_even(number))"
   ]
  },
  {
   "cell_type": "code",
   "execution_count": 30,
   "id": "0867396e",
   "metadata": {},
   "outputs": [
    {
     "name": "stdout",
     "output_type": "stream",
     "text": [
      "80\n"
     ]
    }
   ],
   "source": [
    "def find_maximum(a, b, c, d):\n",
    "    max_num = max(a, b, c, d)\n",
    "    return max_num\n",
    "\n",
    "\n",
    "result = find_maximum(10, 14, 80, 50)\n",
    "\n",
    "print(result) \n"
   ]
  },
  {
   "cell_type": "code",
   "execution_count": 21,
   "id": "0769e676",
   "metadata": {},
   "outputs": [
    {
     "name": "stdout",
     "output_type": "stream",
     "text": [
      "raeY weN yppaH\n"
     ]
    }
   ],
   "source": [
    "def reverse_string(input_str):\n",
    "    return input_str[::-1]\n",
    "\n",
    "result = reverse_string(\"Happy New Year\")\n",
    "print(result)"
   ]
  },
  {
   "cell_type": "markdown",
   "id": "f95304d0",
   "metadata": {},
   "source": [
    "# Lambda\n",
    "A lambda function is a small anonymous function.\n",
    "\n",
    "A lambda function can take any number of arguments, but can only have one expression.\n",
    "\n",
    "lambda input:expression"
   ]
  },
  {
   "cell_type": "code",
   "execution_count": 13,
   "id": "07d1e5cb",
   "metadata": {},
   "outputs": [
    {
     "name": "stdout",
     "output_type": "stream",
     "text": [
      "300\n"
     ]
    }
   ],
   "source": [
    "x = lambda a : a * 10\n",
    "print(x(30))"
   ]
  },
  {
   "cell_type": "code",
   "execution_count": 55,
   "id": "db5fc153",
   "metadata": {},
   "outputs": [
    {
     "name": "stdout",
     "output_type": "stream",
     "text": [
      "244\n"
     ]
    }
   ],
   "source": [
    "add = lambda x, y: x + y\n",
    "print(add(144, 100))"
   ]
  },
  {
   "cell_type": "code",
   "execution_count": 47,
   "id": "64012fc9",
   "metadata": {},
   "outputs": [
    {
     "name": "stdout",
     "output_type": "stream",
     "text": [
      "odd\n"
     ]
    }
   ],
   "source": [
    "x=3\n",
    "if x%2 == 0:\n",
    "    print(\"even\")\n",
    "else:\n",
    "    print(\"odd\")"
   ]
  },
  {
   "cell_type": "code",
   "execution_count": 15,
   "id": "7f4ff5d6",
   "metadata": {},
   "outputs": [
    {
     "data": {
      "text/plain": [
       "'odd'"
      ]
     },
     "execution_count": 15,
     "metadata": {},
     "output_type": "execute_result"
    }
   ],
   "source": [
    "# lambda if else\n",
    "b = lambda x : \"Even\" if x%2 == 0 else \"odd\"\n",
    "b(41)"
   ]
  },
  {
   "cell_type": "code",
   "execution_count": 16,
   "id": "70841900",
   "metadata": {},
   "outputs": [
    {
     "name": "stdout",
     "output_type": "stream",
     "text": [
      "[('Alice', 20), ('Jane', 19), ('John', 21)]\n"
     ]
    }
   ],
   "source": [
    "# Sorting a list of tuples using lambda function\n",
    "students = [('John', 21), ('Jane', 19), ('Alice', 20)]\n",
    "\n",
    "#students[0]\n",
    "\n",
    "students.sort(key = lambda x: x[0]) #(0,1)\n",
    "print(students)"
   ]
  },
  {
   "cell_type": "code",
   "execution_count": 51,
   "id": "e4ffaa06",
   "metadata": {},
   "outputs": [],
   "source": [
    "def myfunc(n):\n",
    "    return lambda a : a * n"
   ]
  },
  {
   "cell_type": "code",
   "execution_count": 33,
   "id": "eb60eb70",
   "metadata": {},
   "outputs": [
    {
     "name": "stdout",
     "output_type": "stream",
     "text": [
      "726\n"
     ]
    }
   ],
   "source": [
    "def myfunc(n):\n",
    "    return lambda a : a * n\n",
    "\n",
    "add = myfunc(33)\n",
    "\n",
    "print(add(22))"
   ]
  },
  {
   "cell_type": "code",
   "execution_count": 36,
   "id": "82ade383",
   "metadata": {},
   "outputs": [
    {
     "name": "stdout",
     "output_type": "stream",
     "text": [
      "1000\n"
     ]
    }
   ],
   "source": [
    "def myfunc(n):\n",
    "    return lambda a : a ** n\n",
    "\n",
    "b = myfunc(3)\n",
    "\n",
    "print(b(10))"
   ]
  },
  {
   "cell_type": "code",
   "execution_count": 54,
   "id": "55103fc8",
   "metadata": {},
   "outputs": [
    {
     "name": "stdout",
     "output_type": "stream",
     "text": [
      "27\n"
     ]
    }
   ],
   "source": [
    "mytripler = lambda a:a*3\n",
    "print(mytripler(9))"
   ]
  },
  {
   "cell_type": "markdown",
   "id": "c3cc10f6",
   "metadata": {},
   "source": [
    "#### The filter() function takes two arguments: a function and an iterable. It applies the function to each element in the iterable and returns a new iterable containing only the elements for which the function returns 'True'.\n",
    "#### The map() function takes two arguments: a function and an iterable. It applies the function to each element in the iterable and returns a new iterable with the transformed values."
   ]
  },
  {
   "cell_type": "code",
   "execution_count": 18,
   "id": "1734d874",
   "metadata": {
    "scrolled": true
   },
   "outputs": [
    {
     "name": "stdout",
     "output_type": "stream",
     "text": [
      "[1, 3, 5, 7, 9]\n",
      "[2, 4, 6, 8, 10, 12, 14, 16, 18, 20]\n"
     ]
    }
   ],
   "source": [
    "numbers = [1, 2, 3, 4, 5, 6, 7, 8, 9, 10]\n",
    "\n",
    "even_numbers = list(filter(lambda x: x % 2 != 0, numbers))  # Filter even numbers\n",
    "squared_numbers = list(map(lambda x: x*2, numbers))  # Square each number\n",
    "print(even_numbers)  # Output: [2, 4, 6, 8, 10]\n",
    "print(squared_numbers)  # Output: [1, 4, 9, 16, 25, 36, 49, 64, 81, 100]"
   ]
  },
  {
   "cell_type": "code",
   "execution_count": 57,
   "id": "ba99a7b2",
   "metadata": {},
   "outputs": [
    {
     "data": {
      "text/plain": [
       "['odd', 'Even', 'odd', 'Even', 'odd', 'Even', 'odd', 'Even', 'odd', 'Even']"
      ]
     },
     "execution_count": 57,
     "metadata": {},
     "output_type": "execute_result"
    }
   ],
   "source": [
    "numbers = [1, 2, 3, 4, 5, 6, 7, 8, 9, 10]\n",
    "squared_numbers = list(map(lambda x: \"Even\" if x%2 == 0 else \"odd\", numbers))\n",
    "squared_numbers"
   ]
  },
  {
   "cell_type": "code",
   "execution_count": 22,
   "id": "fa259527",
   "metadata": {},
   "outputs": [],
   "source": [
    "# map\n",
    "cars=[{\"car\":\"Wagnor\",\"color\":\"red\"}\n",
    "      ,\n",
    "      {\"car\":\"Tiago\",\"color\":\"black\"}\n",
    "      ,\n",
    "      {\"car\":\"Punch\",\"color\":\"Orange\"}]\n"
   ]
  },
  {
   "cell_type": "code",
   "execution_count": 21,
   "id": "223eceed",
   "metadata": {},
   "outputs": [
    {
     "data": {
      "text/plain": [
       "['Wagnor', 'Tiago', 'Punch']"
      ]
     },
     "execution_count": 21,
     "metadata": {},
     "output_type": "execute_result"
    }
   ],
   "source": [
    "\n",
    "list(map(lambda cars:cars[\"car\"],cars))"
   ]
  },
  {
   "cell_type": "code",
   "execution_count": 23,
   "id": "777c2a43",
   "metadata": {},
   "outputs": [
    {
     "data": {
      "text/plain": [
       "['Punch']"
      ]
     },
     "execution_count": 23,
     "metadata": {},
     "output_type": "execute_result"
    }
   ],
   "source": [
    "# filter\n",
    "cars = [\"Wagonr\",\"Tiago\",\"Punch\"]\n",
    "\n",
    "list(filter(lambda x: 'u' in x ,cars))"
   ]
  },
  {
   "cell_type": "code",
   "execution_count": 39,
   "id": "6ddcfa7a",
   "metadata": {},
   "outputs": [],
   "source": [
    "import functools"
   ]
  },
  {
   "cell_type": "code",
   "execution_count": 42,
   "id": "23cd0a11",
   "metadata": {},
   "outputs": [
    {
     "data": {
      "text/plain": [
       "15"
      ]
     },
     "execution_count": 42,
     "metadata": {},
     "output_type": "execute_result"
    }
   ],
   "source": [
    "# Reduce\n",
    "L = [1,2,3,4,5]\n",
    "functools.reduce(lambda x,y:x+y,L)"
   ]
  },
  {
   "cell_type": "code",
   "execution_count": null,
   "id": "e014e093",
   "metadata": {},
   "outputs": [],
   "source": [
    "x =1 \n",
    "y=2 \n",
    "[3,3,4,5]"
   ]
  },
  {
   "cell_type": "code",
   "execution_count": null,
   "id": "bdbf1741",
   "metadata": {},
   "outputs": [],
   "source": [
    "x=3\n",
    "y=3\n",
    "[6,4,5]"
   ]
  },
  {
   "cell_type": "code",
   "execution_count": null,
   "id": "9fadc5cd",
   "metadata": {},
   "outputs": [],
   "source": [
    "x=6\n",
    "y=4\n",
    "[10,5]"
   ]
  },
  {
   "cell_type": "code",
   "execution_count": null,
   "id": "689d7860",
   "metadata": {},
   "outputs": [],
   "source": [
    "x=10\n",
    "y = 5\n",
    "[15]"
   ]
  },
  {
   "cell_type": "code",
   "execution_count": null,
   "id": "2981a202",
   "metadata": {},
   "outputs": [],
   "source": []
  },
  {
   "cell_type": "code",
   "execution_count": 69,
   "id": "7ce820a4",
   "metadata": {},
   "outputs": [
    {
     "data": {
      "text/plain": [
       "11"
      ]
     },
     "execution_count": 69,
     "metadata": {},
     "output_type": "execute_result"
    }
   ],
   "source": [
    "L1 = [12,34,56,11]\n",
    "functools.reduce(lambda x,y:x if x<y else y,L1)"
   ]
  },
  {
   "cell_type": "markdown",
   "id": "1bdd1ddb",
   "metadata": {},
   "source": [
    "##  List comprehension\n",
    "List comprehension is a concise way to create lists.\n",
    "\n",
    "It allows you to create a new list by applying an expression to each element of an existing iterable (such as a list, tuple, or range). \n",
    "\n",
    "while also potentially filtering elements based on certain conditions."
   ]
  },
  {
   "cell_type": "code",
   "execution_count": null,
   "id": "c776408a",
   "metadata": {},
   "outputs": [],
   "source": [
    "#new_list = [expression for item in iterable if condition]"
   ]
  },
  {
   "cell_type": "code",
   "execution_count": 70,
   "id": "192ab740",
   "metadata": {},
   "outputs": [
    {
     "data": {
      "text/plain": [
       "[2, 4, 8, 10, 12]"
      ]
     },
     "execution_count": 70,
     "metadata": {},
     "output_type": "execute_result"
    }
   ],
   "source": [
    "L = [1,2,4,5,6]\n",
    "number = [x*2 for x in L]\n",
    "number"
   ]
  },
  {
   "cell_type": "code",
   "execution_count": 70,
   "id": "5ecedd51",
   "metadata": {},
   "outputs": [
    {
     "data": {
      "text/plain": [
       "[0, 2, 4, 6, 8, 10, 12, 14, 16, 18]"
      ]
     },
     "execution_count": 70,
     "metadata": {},
     "output_type": "execute_result"
    }
   ],
   "source": [
    "L2 = [x*2 for x in range(10)]\n",
    "L2"
   ]
  },
  {
   "cell_type": "code",
   "execution_count": 37,
   "id": "e61d0d1a",
   "metadata": {},
   "outputs": [
    {
     "data": {
      "text/plain": [
       "[2, 6, 10, 14, 18]"
      ]
     },
     "execution_count": 37,
     "metadata": {},
     "output_type": "execute_result"
    }
   ],
   "source": [
    "L3 = [x*2 for x in range(10) if x%2!=0] #odd number \n",
    "L3"
   ]
  },
  {
   "cell_type": "code",
   "execution_count": 24,
   "id": "e463a7ff",
   "metadata": {},
   "outputs": [
    {
     "data": {
      "text/plain": [
       "['Mango']"
      ]
     },
     "execution_count": 24,
     "metadata": {},
     "output_type": "execute_result"
    }
   ],
   "source": [
    "fruit = ['Apple','Orange','Mango']\n",
    "L4 = [fruit for fruit in fruit if fruit[1]=='a']\n",
    "\n",
    "L4"
   ]
  },
  {
   "cell_type": "code",
   "execution_count": null,
   "id": "9580ad16",
   "metadata": {},
   "outputs": [],
   "source": []
  }
 ],
 "metadata": {
  "kernelspec": {
   "display_name": "base",
   "language": "python",
   "name": "python3"
  },
  "language_info": {
   "codemirror_mode": {
    "name": "ipython",
    "version": 3
   },
   "file_extension": ".py",
   "mimetype": "text/x-python",
   "name": "python",
   "nbconvert_exporter": "python",
   "pygments_lexer": "ipython3",
   "version": "3.11.7"
  }
 },
 "nbformat": 4,
 "nbformat_minor": 5
}
